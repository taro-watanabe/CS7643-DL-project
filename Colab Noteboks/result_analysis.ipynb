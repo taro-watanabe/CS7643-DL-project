{
  "cells": [
    {
      "cell_type": "markdown",
      "metadata": {
        "id": "o_s-021N_vVe"
      },
      "source": [
        "##1. Setup\n",
        "\n"
      ]
    },
    {
      "cell_type": "code",
      "execution_count": null,
      "metadata": {
        "id": "6cb7KFsDOd1d",
        "colab": {
          "base_uri": "https://localhost:8080/"
        },
        "outputId": "150a208d-62e5-40b8-e0b3-5c55b26e0d31"
      },
      "outputs": [
        {
          "output_type": "stream",
          "name": "stdout",
          "text": [
            "Mounted at /content/drive\n"
          ]
        }
      ],
      "source": [
        "# mount Google Drive, please authenticate with a Google account with some free space on your storage.\n",
        "from google.colab import drive\n",
        "drive.mount('/content/drive', force_remount=1)"
      ]
    },
    {
      "cell_type": "code",
      "execution_count": null,
      "metadata": {
        "id": "WHwVuUjXOgdc"
      },
      "outputs": [],
      "source": [
        "#copy zip file from your google drive to this colab notebook\n",
        "!cp \"/content/drive/My Drive/final5.zip\" \"/content\""
      ]
    },
    {
      "cell_type": "code",
      "execution_count": null,
      "metadata": {
        "id": "aL8_atQtpX0B"
      },
      "outputs": [],
      "source": [
        "#copy zip file from your google drive to this colab notebook\n",
        "!cp \"/content/drive/My Drive/autoencoder_with_labels2.zip\" \"/content\""
      ]
    },
    {
      "cell_type": "code",
      "execution_count": null,
      "metadata": {
        "id": "AZq9Jm1IsIoC"
      },
      "outputs": [],
      "source": [
        "#copy file from your google drive to this colab notebook\n",
        "!cp \"/content/drive/My Drive/final_results.json\" \"/content\""
      ]
    },
    {
      "cell_type": "code",
      "execution_count": null,
      "metadata": {
        "id": "38TczHJGD4du"
      },
      "outputs": [],
      "source": [
        "#copy file from your google drive to this colab notebook\n",
        "!cp \"/content/drive/My Drive/new.zip\" \"/content\""
      ]
    },
    {
      "cell_type": "code",
      "execution_count": null,
      "metadata": {
        "id": "3vTzzOV4s3Xb"
      },
      "outputs": [],
      "source": [
        "#copy file from your google drive to this colab notebook\n",
        "!cp \"/content/drive/MyDrive/e1000-20230503T142634Z-001.zip\" \"/content\""
      ]
    },
    {
      "cell_type": "code",
      "execution_count": null,
      "metadata": {
        "id": "MOyv1UDKOl7e",
        "colab": {
          "base_uri": "https://localhost:8080/"
        },
        "outputId": "163218c0-4c9f-499d-f175-d0d57f340400"
      },
      "outputs": [
        {
          "output_type": "stream",
          "name": "stdout",
          "text": [
            "Archive:  /content/e1000-20230503T142634Z-001.zip\n",
            "replace /content/e1000/e1000_reward_low_FN_rate_scores.csv? [y]es, [n]o, [A]ll, [N]one, [r]ename: n\n",
            "replace /content/e1000/e1000_standard_scores.csv? [y]es, [n]o, [A]ll, [N]one, [r]ename: N\n"
          ]
        }
      ],
      "source": [
        "#unzip the folder\n",
        "!unzip /content/e1000-20230503T142634Z-001.zip -d /content"
      ]
    },
    {
      "cell_type": "code",
      "execution_count": null,
      "metadata": {
        "colab": {
          "base_uri": "https://localhost:8080/"
        },
        "id": "Qv5vE5kms_HG",
        "outputId": "7bba37af-b806-4d2c-dd63-d8eb1d599039"
      },
      "outputs": [
        {
          "output_type": "stream",
          "name": "stdout",
          "text": [
            "Archive:  /content/final5.zip\n",
            "replace /content/content/NAB/tutorialsdirectory/realTraffic/0_speed_7578.csv? [y]es, [n]o, [A]ll, [N]one, [r]ename: N\n",
            "N\n"
          ]
        }
      ],
      "source": [
        "#unzip the folder\n",
        "!unzip /content/final5.zip -d /content"
      ]
    },
    {
      "cell_type": "code",
      "execution_count": null,
      "metadata": {
        "colab": {
          "base_uri": "https://localhost:8080/"
        },
        "id": "tPIcC_xIpgBN",
        "outputId": "9dc4b679-1e50-4176-ee3a-2c05ed77c3bc"
      },
      "outputs": [
        {
          "output_type": "stream",
          "name": "stdout",
          "text": [
            "Archive:  /content/autoencoder_with_labels2.zip\n",
            "replace /content/content/to_zip2/artificialNoAnomaly/autoencoder_art_noisy.csv? [y]es, [n]o, [A]ll, [N]one, [r]ename: N\n"
          ]
        }
      ],
      "source": [
        "#unzip the folder\n",
        "!unzip /content/autoencoder_with_labels2.zip -d /content"
      ]
    },
    {
      "cell_type": "code",
      "execution_count": null,
      "metadata": {
        "colab": {
          "base_uri": "https://localhost:8080/"
        },
        "id": "jMpwdKMhEZX0",
        "outputId": "42832588-0ca3-46e7-d3eb-e3e408cc8b37"
      },
      "outputs": [
        {
          "output_type": "stream",
          "name": "stdout",
          "text": [
            "Archive:  /content/new.zip\n",
            "replace /content/e663/e663_standard_scores.csv? [y]es, [n]o, [A]ll, [N]one, [r]ename: N\n"
          ]
        }
      ],
      "source": [
        "#unzip the folder\n",
        "!unzip /content/new.zip -d /content"
      ]
    },
    {
      "cell_type": "code",
      "execution_count": null,
      "metadata": {
        "id": "MYMVOX9FOuFA"
      },
      "outputs": [],
      "source": [
        "#import libraries\n",
        "import pandas as pd\n",
        "import numpy as np\n",
        "import os\n",
        "import matplotlib.pyplot as plt\n",
        "from IPython.display import display\n",
        "import matplotlib.dates as mdates\n",
        "import json\n",
        "from itertools import combinations\n",
        "import shutil"
      ]
    },
    {
      "cell_type": "code",
      "execution_count": null,
      "metadata": {
        "id": "2xHENhEDJVBF"
      },
      "outputs": [],
      "source": [
        "ensemble_combs = {0: ('twitterADVec', 'null', 'bayesChangePt'), 1: ('twitterADVec', 'null', 'windowedGaussian'), 2: ('twitterADVec', 'null', 'random'), 3: ('twitterADVec', 'null', 'htmjava'), 4: ('twitterADVec', 'null', 'contextOSE'), 5: ('twitterADVec', 'null', 'randomCutForest'), 6: ('twitterADVec', 'null', 'skyline'), 7: ('twitterADVec', 'null', 'expose'), 8: ('twitterADVec', 'null', 'numenta'), 9: ('twitterADVec', 'null', 'earthgeckoSkyline'), 10: ('twitterADVec', 'null', 'relativeEntropy'), 11: ('twitterADVec', 'null', 'numentaTM'), 12: ('twitterADVec', 'null', 'ARTime'), 13: ('twitterADVec', 'null', 'knncad'), 14: ('twitterADVec', 'bayesChangePt', 'windowedGaussian'), 15: ('twitterADVec', 'bayesChangePt', 'random'), 16: ('twitterADVec', 'bayesChangePt', 'htmjava'), 17: ('twitterADVec', 'bayesChangePt', 'contextOSE'), 18: ('twitterADVec', 'bayesChangePt', 'randomCutForest'), 19: ('twitterADVec', 'bayesChangePt', 'skyline'), 20: ('twitterADVec', 'bayesChangePt', 'expose'), 21: ('twitterADVec', 'bayesChangePt', 'numenta'), 22: ('twitterADVec', 'bayesChangePt', 'earthgeckoSkyline'), 23: ('twitterADVec', 'bayesChangePt', 'relativeEntropy'), 24: ('twitterADVec', 'bayesChangePt', 'numentaTM'), 25: ('twitterADVec', 'bayesChangePt', 'ARTime'), 26: ('twitterADVec', 'bayesChangePt', 'knncad'), 27: ('twitterADVec', 'windowedGaussian', 'random'), 28: ('twitterADVec', 'windowedGaussian', 'htmjava'), 29: ('twitterADVec', 'windowedGaussian', 'contextOSE'), 30: ('twitterADVec', 'windowedGaussian', 'randomCutForest'), 31: ('twitterADVec', 'windowedGaussian', 'skyline'), 32: ('twitterADVec', 'windowedGaussian', 'expose'), 33: ('twitterADVec', 'windowedGaussian', 'numenta'), 34: ('twitterADVec', 'windowedGaussian', 'earthgeckoSkyline'), 35: ('twitterADVec', 'windowedGaussian', 'relativeEntropy'), 36: ('twitterADVec', 'windowedGaussian', 'numentaTM'), 37: ('twitterADVec', 'windowedGaussian', 'ARTime'), 38: ('twitterADVec', 'windowedGaussian', 'knncad'), 39: ('twitterADVec', 'random', 'htmjava'), 40: ('twitterADVec', 'random', 'contextOSE'), 41: ('twitterADVec', 'random', 'randomCutForest'), 42: ('twitterADVec', 'random', 'skyline'), 43: ('twitterADVec', 'random', 'expose'), 44: ('twitterADVec', 'random', 'numenta'), 45: ('twitterADVec', 'random', 'earthgeckoSkyline'), 46: ('twitterADVec', 'random', 'relativeEntropy'), 47: ('twitterADVec', 'random', 'numentaTM'), 48: ('twitterADVec', 'random', 'ARTime'), 49: ('twitterADVec', 'random', 'knncad'), 50: ('twitterADVec', 'htmjava', 'contextOSE'), 51: ('twitterADVec', 'htmjava', 'randomCutForest'), 52: ('twitterADVec', 'htmjava', 'skyline'), 53: ('twitterADVec', 'htmjava', 'expose'), 54: ('twitterADVec', 'htmjava', 'numenta'), 55: ('twitterADVec', 'htmjava', 'earthgeckoSkyline'), 56: ('twitterADVec', 'htmjava', 'relativeEntropy'), 57: ('twitterADVec', 'htmjava', 'numentaTM'), 58: ('twitterADVec', 'htmjava', 'ARTime'), 59: ('twitterADVec', 'htmjava', 'knncad'), 60: ('twitterADVec', 'contextOSE', 'randomCutForest'), 61: ('twitterADVec', 'contextOSE', 'skyline'), 62: ('twitterADVec', 'contextOSE', 'expose'), 63: ('twitterADVec', 'contextOSE', 'numenta'), 64: ('twitterADVec', 'contextOSE', 'earthgeckoSkyline'), 65: ('twitterADVec', 'contextOSE', 'relativeEntropy'), 66: ('twitterADVec', 'contextOSE', 'numentaTM'), 67: ('twitterADVec', 'contextOSE', 'ARTime'), 68: ('twitterADVec', 'contextOSE', 'knncad'), 69: ('twitterADVec', 'randomCutForest', 'skyline'), 70: ('twitterADVec', 'randomCutForest', 'expose'), 71: ('twitterADVec', 'randomCutForest', 'numenta'), 72: ('twitterADVec', 'randomCutForest', 'earthgeckoSkyline'), 73: ('twitterADVec', 'randomCutForest', 'relativeEntropy'), 74: ('twitterADVec', 'randomCutForest', 'numentaTM'), 75: ('twitterADVec', 'randomCutForest', 'ARTime'), 76: ('twitterADVec', 'randomCutForest', 'knncad'), 77: ('twitterADVec', 'skyline', 'expose'), 78: ('twitterADVec', 'skyline', 'numenta'), 79: ('twitterADVec', 'skyline', 'earthgeckoSkyline'), 80: ('twitterADVec', 'skyline', 'relativeEntropy'), 81: ('twitterADVec', 'skyline', 'numentaTM'), 82: ('twitterADVec', 'skyline', 'ARTime'), 83: ('twitterADVec', 'skyline', 'knncad'), 84: ('twitterADVec', 'expose', 'numenta'), 85: ('twitterADVec', 'expose', 'earthgeckoSkyline'), 86: ('twitterADVec', 'expose', 'relativeEntropy'), 87: ('twitterADVec', 'expose', 'numentaTM'), 88: ('twitterADVec', 'expose', 'ARTime'), 89: ('twitterADVec', 'expose', 'knncad'), 90: ('twitterADVec', 'numenta', 'earthgeckoSkyline'), 91: ('twitterADVec', 'numenta', 'relativeEntropy'), 92: ('twitterADVec', 'numenta', 'numentaTM'), 93: ('twitterADVec', 'numenta', 'ARTime'), 94: ('twitterADVec', 'numenta', 'knncad'), 95: ('twitterADVec', 'earthgeckoSkyline', 'relativeEntropy'), 96: ('twitterADVec', 'earthgeckoSkyline', 'numentaTM'), 97: ('twitterADVec', 'earthgeckoSkyline', 'ARTime'), 98: ('twitterADVec', 'earthgeckoSkyline', 'knncad'), 99: ('twitterADVec', 'relativeEntropy', 'numentaTM'), 100: ('twitterADVec', 'relativeEntropy', 'ARTime'), 101: ('twitterADVec', 'relativeEntropy', 'knncad'), 102: ('twitterADVec', 'numentaTM', 'ARTime'), 103: ('twitterADVec', 'numentaTM', 'knncad'), 104: ('twitterADVec', 'ARTime', 'knncad'), 105: ('null', 'bayesChangePt', 'windowedGaussian'), 106: ('null', 'bayesChangePt', 'random'), 107: ('null', 'bayesChangePt', 'htmjava'), 108: ('null', 'bayesChangePt', 'contextOSE'), 109: ('null', 'bayesChangePt', 'randomCutForest'), 110: ('null', 'bayesChangePt', 'skyline'), 111: ('null', 'bayesChangePt', 'expose'), 112: ('null', 'bayesChangePt', 'numenta'), 113: ('null', 'bayesChangePt', 'earthgeckoSkyline'), 114: ('null', 'bayesChangePt', 'relativeEntropy'), 115: ('null', 'bayesChangePt', 'numentaTM'), 116: ('null', 'bayesChangePt', 'ARTime'), 117: ('null', 'bayesChangePt', 'knncad'), 118: ('null', 'windowedGaussian', 'random'), 119: ('null', 'windowedGaussian', 'htmjava'), 120: ('null', 'windowedGaussian', 'contextOSE'), 121: ('null', 'windowedGaussian', 'randomCutForest'), 122: ('null', 'windowedGaussian', 'skyline'), 123: ('null', 'windowedGaussian', 'expose'), 124: ('null', 'windowedGaussian', 'numenta'), 125: ('null', 'windowedGaussian', 'earthgeckoSkyline'), 126: ('null', 'windowedGaussian', 'relativeEntropy'), 127: ('null', 'windowedGaussian', 'numentaTM'), 128: ('null', 'windowedGaussian', 'ARTime'), 129: ('null', 'windowedGaussian', 'knncad'), 130: ('null', 'random', 'htmjava'), 131: ('null', 'random', 'contextOSE'), 132: ('null', 'random', 'randomCutForest'), 133: ('null', 'random', 'skyline'), 134: ('null', 'random', 'expose'), 135: ('null', 'random', 'numenta'), 136: ('null', 'random', 'earthgeckoSkyline'), 137: ('null', 'random', 'relativeEntropy'), 138: ('null', 'random', 'numentaTM'), 139: ('null', 'random', 'ARTime'), 140: ('null', 'random', 'knncad'), 141: ('null', 'htmjava', 'contextOSE'), 142: ('null', 'htmjava', 'randomCutForest'), 143: ('null', 'htmjava', 'skyline'), 144: ('null', 'htmjava', 'expose'), 145: ('null', 'htmjava', 'numenta'), 146: ('null', 'htmjava', 'earthgeckoSkyline'), 147: ('null', 'htmjava', 'relativeEntropy'), 148: ('null', 'htmjava', 'numentaTM'), 149: ('null', 'htmjava', 'ARTime'), 150: ('null', 'htmjava', 'knncad'), 151: ('null', 'contextOSE', 'randomCutForest'), 152: ('null', 'contextOSE', 'skyline'), 153: ('null', 'contextOSE', 'expose'), 154: ('null', 'contextOSE', 'numenta'), 155: ('null', 'contextOSE', 'earthgeckoSkyline'), 156: ('null', 'contextOSE', 'relativeEntropy'), 157: ('null', 'contextOSE', 'numentaTM'), 158: ('null', 'contextOSE', 'ARTime'), 159: ('null', 'contextOSE', 'knncad'), 160: ('null', 'randomCutForest', 'skyline'), 161: ('null', 'randomCutForest', 'expose'), 162: ('null', 'randomCutForest', 'numenta'), 163: ('null', 'randomCutForest', 'earthgeckoSkyline'), 164: ('null', 'randomCutForest', 'relativeEntropy'), 165: ('null', 'randomCutForest', 'numentaTM'), 166: ('null', 'randomCutForest', 'ARTime'), 167: ('null', 'randomCutForest', 'knncad'), 168: ('null', 'skyline', 'expose'), 169: ('null', 'skyline', 'numenta'), 170: ('null', 'skyline', 'earthgeckoSkyline'), 171: ('null', 'skyline', 'relativeEntropy'), 172: ('null', 'skyline', 'numentaTM'), 173: ('null', 'skyline', 'ARTime'), 174: ('null', 'skyline', 'knncad'), 175: ('null', 'expose', 'numenta'), 176: ('null', 'expose', 'earthgeckoSkyline'), 177: ('null', 'expose', 'relativeEntropy'), 178: ('null', 'expose', 'numentaTM'), 179: ('null', 'expose', 'ARTime'), 180: ('null', 'expose', 'knncad'), 181: ('null', 'numenta', 'earthgeckoSkyline'), 182: ('null', 'numenta', 'relativeEntropy'), 183: ('null', 'numenta', 'numentaTM'), 184: ('null', 'numenta', 'ARTime'), 185: ('null', 'numenta', 'knncad'), 186: ('null', 'earthgeckoSkyline', 'relativeEntropy'), 187: ('null', 'earthgeckoSkyline', 'numentaTM'), 188: ('null', 'earthgeckoSkyline', 'ARTime'), 189: ('null', 'earthgeckoSkyline', 'knncad'), 190: ('null', 'relativeEntropy', 'numentaTM'), 191: ('null', 'relativeEntropy', 'ARTime'), 192: ('null', 'relativeEntropy', 'knncad'), 193: ('null', 'numentaTM', 'ARTime'), 194: ('null', 'numentaTM', 'knncad'), 195: ('null', 'ARTime', 'knncad'), 196: ('bayesChangePt', 'windowedGaussian', 'random'), 197: ('bayesChangePt', 'windowedGaussian', 'htmjava'), 198: ('bayesChangePt', 'windowedGaussian', 'contextOSE'), 199: ('bayesChangePt', 'windowedGaussian', 'randomCutForest'), 200: ('bayesChangePt', 'windowedGaussian', 'skyline'), 201: ('bayesChangePt', 'windowedGaussian', 'expose'), 202: ('bayesChangePt', 'windowedGaussian', 'numenta'), 203: ('bayesChangePt', 'windowedGaussian', 'earthgeckoSkyline'), 204: ('bayesChangePt', 'windowedGaussian', 'relativeEntropy'), 205: ('bayesChangePt', 'windowedGaussian', 'numentaTM'), 206: ('bayesChangePt', 'windowedGaussian', 'ARTime'), 207: ('bayesChangePt', 'windowedGaussian', 'knncad'), 208: ('bayesChangePt', 'random', 'htmjava'), 209: ('bayesChangePt', 'random', 'contextOSE'), 210: ('bayesChangePt', 'random', 'randomCutForest'), 211: ('bayesChangePt', 'random', 'skyline'), 212: ('bayesChangePt', 'random', 'expose'), 213: ('bayesChangePt', 'random', 'numenta'), 214: ('bayesChangePt', 'random', 'earthgeckoSkyline'), 215: ('bayesChangePt', 'random', 'relativeEntropy'), 216: ('bayesChangePt', 'random', 'numentaTM'), 217: ('bayesChangePt', 'random', 'ARTime'), 218: ('bayesChangePt', 'random', 'knncad'), 219: ('bayesChangePt', 'htmjava', 'contextOSE'), 220: ('bayesChangePt', 'htmjava', 'randomCutForest'), 221: ('bayesChangePt', 'htmjava', 'skyline'), 222: ('bayesChangePt', 'htmjava', 'expose'), 223: ('bayesChangePt', 'htmjava', 'numenta'), 224: ('bayesChangePt', 'htmjava', 'earthgeckoSkyline'), 225: ('bayesChangePt', 'htmjava', 'relativeEntropy'), 226: ('bayesChangePt', 'htmjava', 'numentaTM'), 227: ('bayesChangePt', 'htmjava', 'ARTime'), 228: ('bayesChangePt', 'htmjava', 'knncad'), 229: ('bayesChangePt', 'contextOSE', 'randomCutForest'), 230: ('bayesChangePt', 'contextOSE', 'skyline'), 231: ('bayesChangePt', 'contextOSE', 'expose'), 232: ('bayesChangePt', 'contextOSE', 'numenta'), 233: ('bayesChangePt', 'contextOSE', 'earthgeckoSkyline'), 234: ('bayesChangePt', 'contextOSE', 'relativeEntropy'), 235: ('bayesChangePt', 'contextOSE', 'numentaTM'), 236: ('bayesChangePt', 'contextOSE', 'ARTime'), 237: ('bayesChangePt', 'contextOSE', 'knncad'), 238: ('bayesChangePt', 'randomCutForest', 'skyline'), 239: ('bayesChangePt', 'randomCutForest', 'expose'), 240: ('bayesChangePt', 'randomCutForest', 'numenta'), 241: ('bayesChangePt', 'randomCutForest', 'earthgeckoSkyline'), 242: ('bayesChangePt', 'randomCutForest', 'relativeEntropy'), 243: ('bayesChangePt', 'randomCutForest', 'numentaTM'), 244: ('bayesChangePt', 'randomCutForest', 'ARTime'), 245: ('bayesChangePt', 'randomCutForest', 'knncad'), 246: ('bayesChangePt', 'skyline', 'expose'), 247: ('bayesChangePt', 'skyline', 'numenta'), 248: ('bayesChangePt', 'skyline', 'earthgeckoSkyline'), 249: ('bayesChangePt', 'skyline', 'relativeEntropy'), 250: ('bayesChangePt', 'skyline', 'numentaTM'), 251: ('bayesChangePt', 'skyline', 'ARTime'), 252: ('bayesChangePt', 'skyline', 'knncad'), 253: ('bayesChangePt', 'expose', 'numenta'), 254: ('bayesChangePt', 'expose', 'earthgeckoSkyline'), 255: ('bayesChangePt', 'expose', 'relativeEntropy'), 256: ('bayesChangePt', 'expose', 'numentaTM'), 257: ('bayesChangePt', 'expose', 'ARTime'), 258: ('bayesChangePt', 'expose', 'knncad'), 259: ('bayesChangePt', 'numenta', 'earthgeckoSkyline'), 260: ('bayesChangePt', 'numenta', 'relativeEntropy'), 261: ('bayesChangePt', 'numenta', 'numentaTM'), 262: ('bayesChangePt', 'numenta', 'ARTime'), 263: ('bayesChangePt', 'numenta', 'knncad'), 264: ('bayesChangePt', 'earthgeckoSkyline', 'relativeEntropy'), 265: ('bayesChangePt', 'earthgeckoSkyline', 'numentaTM'), 266: ('bayesChangePt', 'earthgeckoSkyline', 'ARTime'), 267: ('bayesChangePt', 'earthgeckoSkyline', 'knncad'), 268: ('bayesChangePt', 'relativeEntropy', 'numentaTM'), 269: ('bayesChangePt', 'relativeEntropy', 'ARTime'), 270: ('bayesChangePt', 'relativeEntropy', 'knncad'), 271: ('bayesChangePt', 'numentaTM', 'ARTime'), 272: ('bayesChangePt', 'numentaTM', 'knncad'), 273: ('bayesChangePt', 'ARTime', 'knncad'), 274: ('windowedGaussian', 'random', 'htmjava'), 275: ('windowedGaussian', 'random', 'contextOSE'), 276: ('windowedGaussian', 'random', 'randomCutForest'), 277: ('windowedGaussian', 'random', 'skyline'), 278: ('windowedGaussian', 'random', 'expose'), 279: ('windowedGaussian', 'random', 'numenta'), 280: ('windowedGaussian', 'random', 'earthgeckoSkyline'), 281: ('windowedGaussian', 'random', 'relativeEntropy'), 282: ('windowedGaussian', 'random', 'numentaTM'), 283: ('windowedGaussian', 'random', 'ARTime'), 284: ('windowedGaussian', 'random', 'knncad'), 285: ('windowedGaussian', 'htmjava', 'contextOSE'), 286: ('windowedGaussian', 'htmjava', 'randomCutForest'), 287: ('windowedGaussian', 'htmjava', 'skyline'), 288: ('windowedGaussian', 'htmjava', 'expose'), 289: ('windowedGaussian', 'htmjava', 'numenta'), 290: ('windowedGaussian', 'htmjava', 'earthgeckoSkyline'), 291: ('windowedGaussian', 'htmjava', 'relativeEntropy'), 292: ('windowedGaussian', 'htmjava', 'numentaTM'), 293: ('windowedGaussian', 'htmjava', 'ARTime'), 294: ('windowedGaussian', 'htmjava', 'knncad'), 295: ('windowedGaussian', 'contextOSE', 'randomCutForest'), 296: ('windowedGaussian', 'contextOSE', 'skyline'), 297: ('windowedGaussian', 'contextOSE', 'expose'), 298: ('windowedGaussian', 'contextOSE', 'numenta'), 299: ('windowedGaussian', 'contextOSE', 'earthgeckoSkyline'), 300: ('windowedGaussian', 'contextOSE', 'relativeEntropy'), 301: ('windowedGaussian', 'contextOSE', 'numentaTM'), 302: ('windowedGaussian', 'contextOSE', 'ARTime'), 303: ('windowedGaussian', 'contextOSE', 'knncad'), 304: ('windowedGaussian', 'randomCutForest', 'skyline'), 305: ('windowedGaussian', 'randomCutForest', 'expose'), 306: ('windowedGaussian', 'randomCutForest', 'numenta'), 307: ('windowedGaussian', 'randomCutForest', 'earthgeckoSkyline'), 308: ('windowedGaussian', 'randomCutForest', 'relativeEntropy'), 309: ('windowedGaussian', 'randomCutForest', 'numentaTM'), 310: ('windowedGaussian', 'randomCutForest', 'ARTime'), 311: ('windowedGaussian', 'randomCutForest', 'knncad'), 312: ('windowedGaussian', 'skyline', 'expose'), 313: ('windowedGaussian', 'skyline', 'numenta'), 314: ('windowedGaussian', 'skyline', 'earthgeckoSkyline'), 315: ('windowedGaussian', 'skyline', 'relativeEntropy'), 316: ('windowedGaussian', 'skyline', 'numentaTM'), 317: ('windowedGaussian', 'skyline', 'ARTime'), 318: ('windowedGaussian', 'skyline', 'knncad'), 319: ('windowedGaussian', 'expose', 'numenta'), 320: ('windowedGaussian', 'expose', 'earthgeckoSkyline'), 321: ('windowedGaussian', 'expose', 'relativeEntropy'), 322: ('windowedGaussian', 'expose', 'numentaTM'), 323: ('windowedGaussian', 'expose', 'ARTime'), 324: ('windowedGaussian', 'expose', 'knncad'), 325: ('windowedGaussian', 'numenta', 'earthgeckoSkyline'), 326: ('windowedGaussian', 'numenta', 'relativeEntropy'), 327: ('windowedGaussian', 'numenta', 'numentaTM'), 328: ('windowedGaussian', 'numenta', 'ARTime'), 329: ('windowedGaussian', 'numenta', 'knncad'), 330: ('windowedGaussian', 'earthgeckoSkyline', 'relativeEntropy'), 331: ('windowedGaussian', 'earthgeckoSkyline', 'numentaTM'), 332: ('windowedGaussian', 'earthgeckoSkyline', 'ARTime'), 333: ('windowedGaussian', 'earthgeckoSkyline', 'knncad'), 334: ('windowedGaussian', 'relativeEntropy', 'numentaTM'), 335: ('windowedGaussian', 'relativeEntropy', 'ARTime'), 336: ('windowedGaussian', 'relativeEntropy', 'knncad'), 337: ('windowedGaussian', 'numentaTM', 'ARTime'), 338: ('windowedGaussian', 'numentaTM', 'knncad'), 339: ('windowedGaussian', 'ARTime', 'knncad'), 340: ('random', 'htmjava', 'contextOSE'), 341: ('random', 'htmjava', 'randomCutForest'), 342: ('random', 'htmjava', 'skyline'), 343: ('random', 'htmjava', 'expose'), 344: ('random', 'htmjava', 'numenta'), 345: ('random', 'htmjava', 'earthgeckoSkyline'), 346: ('random', 'htmjava', 'relativeEntropy'), 347: ('random', 'htmjava', 'numentaTM'), 348: ('random', 'htmjava', 'ARTime'), 349: ('random', 'htmjava', 'knncad'), 350: ('random', 'contextOSE', 'randomCutForest'), 351: ('random', 'contextOSE', 'skyline'), 352: ('random', 'contextOSE', 'expose'), 353: ('random', 'contextOSE', 'numenta'), 354: ('random', 'contextOSE', 'earthgeckoSkyline'), 355: ('random', 'contextOSE', 'relativeEntropy'), 356: ('random', 'contextOSE', 'numentaTM'), 357: ('random', 'contextOSE', 'ARTime'), 358: ('random', 'contextOSE', 'knncad'), 359: ('random', 'randomCutForest', 'skyline'), 360: ('random', 'randomCutForest', 'expose'), 361: ('random', 'randomCutForest', 'numenta'), 362: ('random', 'randomCutForest', 'earthgeckoSkyline'), 363: ('random', 'randomCutForest', 'relativeEntropy'), 364: ('random', 'randomCutForest', 'numentaTM'), 365: ('random', 'randomCutForest', 'ARTime'), 366: ('random', 'randomCutForest', 'knncad'), 367: ('random', 'skyline', 'expose'), 368: ('random', 'skyline', 'numenta'), 369: ('random', 'skyline', 'earthgeckoSkyline'), 370: ('random', 'skyline', 'relativeEntropy'), 371: ('random', 'skyline', 'numentaTM'), 372: ('random', 'skyline', 'ARTime'), 373: ('random', 'skyline', 'knncad'), 374: ('random', 'expose', 'numenta'), 375: ('random', 'expose', 'earthgeckoSkyline'), 376: ('random', 'expose', 'relativeEntropy'), 377: ('random', 'expose', 'numentaTM'), 378: ('random', 'expose', 'ARTime'), 379: ('random', 'expose', 'knncad'), 380: ('random', 'numenta', 'earthgeckoSkyline'), 381: ('random', 'numenta', 'relativeEntropy'), 382: ('random', 'numenta', 'numentaTM'), 383: ('random', 'numenta', 'ARTime'), 384: ('random', 'numenta', 'knncad'), 385: ('random', 'earthgeckoSkyline', 'relativeEntropy'), 386: ('random', 'earthgeckoSkyline', 'numentaTM'), 387: ('random', 'earthgeckoSkyline', 'ARTime'), 388: ('random', 'earthgeckoSkyline', 'knncad'), 389: ('random', 'relativeEntropy', 'numentaTM'), 390: ('random', 'relativeEntropy', 'ARTime'), 391: ('random', 'relativeEntropy', 'knncad'), 392: ('random', 'numentaTM', 'ARTime'), 393: ('random', 'numentaTM', 'knncad'), 394: ('random', 'ARTime', 'knncad'), 395: ('htmjava', 'contextOSE', 'randomCutForest'), 396: ('htmjava', 'contextOSE', 'skyline'), 397: ('htmjava', 'contextOSE', 'expose'), 398: ('htmjava', 'contextOSE', 'numenta'), 399: ('htmjava', 'contextOSE', 'earthgeckoSkyline'), 400: ('htmjava', 'contextOSE', 'relativeEntropy'), 401: ('htmjava', 'contextOSE', 'numentaTM'), 402: ('htmjava', 'contextOSE', 'ARTime'), 403: ('htmjava', 'contextOSE', 'knncad'), 404: ('htmjava', 'randomCutForest', 'skyline'), 405: ('htmjava', 'randomCutForest', 'expose'), 406: ('htmjava', 'randomCutForest', 'numenta'), 407: ('htmjava', 'randomCutForest', 'earthgeckoSkyline'), 408: ('htmjava', 'randomCutForest', 'relativeEntropy'), 409: ('htmjava', 'randomCutForest', 'numentaTM'), 410: ('htmjava', 'randomCutForest', 'ARTime'), 411: ('htmjava', 'randomCutForest', 'knncad'), 412: ('htmjava', 'skyline', 'expose'), 413: ('htmjava', 'skyline', 'numenta'), 414: ('htmjava', 'skyline', 'earthgeckoSkyline'), 415: ('htmjava', 'skyline', 'relativeEntropy'), 416: ('htmjava', 'skyline', 'numentaTM'), 417: ('htmjava', 'skyline', 'ARTime'), 418: ('htmjava', 'skyline', 'knncad'), 419: ('htmjava', 'expose', 'numenta'), 420: ('htmjava', 'expose', 'earthgeckoSkyline'), 421: ('htmjava', 'expose', 'relativeEntropy'), 422: ('htmjava', 'expose', 'numentaTM'), 423: ('htmjava', 'expose', 'ARTime'), 424: ('htmjava', 'expose', 'knncad'), 425: ('htmjava', 'numenta', 'earthgeckoSkyline'), 426: ('htmjava', 'numenta', 'relativeEntropy'), 427: ('htmjava', 'numenta', 'numentaTM'), 428: ('htmjava', 'numenta', 'ARTime'), 429: ('htmjava', 'numenta', 'knncad'), 430: ('htmjava', 'earthgeckoSkyline', 'relativeEntropy'), 431: ('htmjava', 'earthgeckoSkyline', 'numentaTM'), 432: ('htmjava', 'earthgeckoSkyline', 'ARTime'), 433: ('htmjava', 'earthgeckoSkyline', 'knncad'), 434: ('htmjava', 'relativeEntropy', 'numentaTM'), 435: ('htmjava', 'relativeEntropy', 'ARTime'), 436: ('htmjava', 'relativeEntropy', 'knncad'), 437: ('htmjava', 'numentaTM', 'ARTime'), 438: ('htmjava', 'numentaTM', 'knncad'), 439: ('htmjava', 'ARTime', 'knncad'), 440: ('contextOSE', 'randomCutForest', 'skyline'), 441: ('contextOSE', 'randomCutForest', 'expose'), 442: ('contextOSE', 'randomCutForest', 'numenta'), 443: ('contextOSE', 'randomCutForest', 'earthgeckoSkyline'), 444: ('contextOSE', 'randomCutForest', 'relativeEntropy'), 445: ('contextOSE', 'randomCutForest', 'numentaTM'), 446: ('contextOSE', 'randomCutForest', 'ARTime'), 447: ('contextOSE', 'randomCutForest', 'knncad'), 448: ('contextOSE', 'skyline', 'expose'), 449: ('contextOSE', 'skyline', 'numenta'), 450: ('contextOSE', 'skyline', 'earthgeckoSkyline'), 451: ('contextOSE', 'skyline', 'relativeEntropy'), 452: ('contextOSE', 'skyline', 'numentaTM'), 453: ('contextOSE', 'skyline', 'ARTime'), 454: ('contextOSE', 'skyline', 'knncad'), 455: ('contextOSE', 'expose', 'numenta'), 456: ('contextOSE', 'expose', 'earthgeckoSkyline'), 457: ('contextOSE', 'expose', 'relativeEntropy'), 458: ('contextOSE', 'expose', 'numentaTM'), 459: ('contextOSE', 'expose', 'ARTime'), 460: ('contextOSE', 'expose', 'knncad'), 461: ('contextOSE', 'numenta', 'earthgeckoSkyline'), 462: ('contextOSE', 'numenta', 'relativeEntropy'), 463: ('contextOSE', 'numenta', 'numentaTM'), 464: ('contextOSE', 'numenta', 'ARTime'), 465: ('contextOSE', 'numenta', 'knncad'), 466: ('contextOSE', 'earthgeckoSkyline', 'relativeEntropy'), 467: ('contextOSE', 'earthgeckoSkyline', 'numentaTM'), 468: ('contextOSE', 'earthgeckoSkyline', 'ARTime'), 469: ('contextOSE', 'earthgeckoSkyline', 'knncad'), 470: ('contextOSE', 'relativeEntropy', 'numentaTM'), 471: ('contextOSE', 'relativeEntropy', 'ARTime'), 472: ('contextOSE', 'relativeEntropy', 'knncad'), 473: ('contextOSE', 'numentaTM', 'ARTime'), 474: ('contextOSE', 'numentaTM', 'knncad'), 475: ('contextOSE', 'ARTime', 'knncad'), 476: ('randomCutForest', 'skyline', 'expose'), 477: ('randomCutForest', 'skyline', 'numenta'), 478: ('randomCutForest', 'skyline', 'earthgeckoSkyline'), 479: ('randomCutForest', 'skyline', 'relativeEntropy'), 480: ('randomCutForest', 'skyline', 'numentaTM'), 481: ('randomCutForest', 'skyline', 'ARTime'), 482: ('randomCutForest', 'skyline', 'knncad'), 483: ('randomCutForest', 'expose', 'numenta'), 484: ('randomCutForest', 'expose', 'earthgeckoSkyline'), 485: ('randomCutForest', 'expose', 'relativeEntropy'), 486: ('randomCutForest', 'expose', 'numentaTM'), 487: ('randomCutForest', 'expose', 'ARTime'), 488: ('randomCutForest', 'expose', 'knncad'), 489: ('randomCutForest', 'numenta', 'earthgeckoSkyline'), 490: ('randomCutForest', 'numenta', 'relativeEntropy'), 491: ('randomCutForest', 'numenta', 'numentaTM'), 492: ('randomCutForest', 'numenta', 'ARTime'), 493: ('randomCutForest', 'numenta', 'knncad'), 494: ('randomCutForest', 'earthgeckoSkyline', 'relativeEntropy'), 495: ('randomCutForest', 'earthgeckoSkyline', 'numentaTM'), 496: ('randomCutForest', 'earthgeckoSkyline', 'ARTime'), 497: ('randomCutForest', 'earthgeckoSkyline', 'knncad'), 498: ('randomCutForest', 'relativeEntropy', 'numentaTM'), 499: ('randomCutForest', 'relativeEntropy', 'ARTime'), 500: ('randomCutForest', 'relativeEntropy', 'knncad'), 501: ('randomCutForest', 'numentaTM', 'ARTime'), 502: ('randomCutForest', 'numentaTM', 'knncad'), 503: ('randomCutForest', 'ARTime', 'knncad'), 504: ('skyline', 'expose', 'numenta'), 505: ('skyline', 'expose', 'earthgeckoSkyline'), 506: ('skyline', 'expose', 'relativeEntropy'), 507: ('skyline', 'expose', 'numentaTM'), 508: ('skyline', 'expose', 'ARTime'), 509: ('skyline', 'expose', 'knncad'), 510: ('skyline', 'numenta', 'earthgeckoSkyline'), 511: ('skyline', 'numenta', 'relativeEntropy'), 512: ('skyline', 'numenta', 'numentaTM'), 513: ('skyline', 'numenta', 'ARTime'), 514: ('skyline', 'numenta', 'knncad'), 515: ('skyline', 'earthgeckoSkyline', 'relativeEntropy'), 516: ('skyline', 'earthgeckoSkyline', 'numentaTM'), 517: ('skyline', 'earthgeckoSkyline', 'ARTime'), 518: ('skyline', 'earthgeckoSkyline', 'knncad'), 519: ('skyline', 'relativeEntropy', 'numentaTM'), 520: ('skyline', 'relativeEntropy', 'ARTime'), 521: ('skyline', 'relativeEntropy', 'knncad'), 522: ('skyline', 'numentaTM', 'ARTime'), 523: ('skyline', 'numentaTM', 'knncad'), 524: ('skyline', 'ARTime', 'knncad'), 525: ('expose', 'numenta', 'earthgeckoSkyline'), 526: ('expose', 'numenta', 'relativeEntropy'), 527: ('expose', 'numenta', 'numentaTM'), 528: ('expose', 'numenta', 'ARTime'), 529: ('expose', 'numenta', 'knncad'), 530: ('expose', 'earthgeckoSkyline', 'relativeEntropy'), 531: ('expose', 'earthgeckoSkyline', 'numentaTM'), 532: ('expose', 'earthgeckoSkyline', 'ARTime'), 533: ('expose', 'earthgeckoSkyline', 'knncad'), 534: ('expose', 'relativeEntropy', 'numentaTM'), 535: ('expose', 'relativeEntropy', 'ARTime'), 536: ('expose', 'relativeEntropy', 'knncad'), 537: ('expose', 'numentaTM', 'ARTime'), 538: ('expose', 'numentaTM', 'knncad'), 539: ('expose', 'ARTime', 'knncad'), 540: ('numenta', 'earthgeckoSkyline', 'relativeEntropy'), 541: ('numenta', 'earthgeckoSkyline', 'numentaTM'), 542: ('numenta', 'earthgeckoSkyline', 'ARTime'), 543: ('numenta', 'earthgeckoSkyline', 'knncad'), 544: ('numenta', 'relativeEntropy', 'numentaTM'), 545: ('numenta', 'relativeEntropy', 'ARTime'), 546: ('numenta', 'relativeEntropy', 'knncad'), 547: ('numenta', 'numentaTM', 'ARTime'), 548: ('numenta', 'numentaTM', 'knncad'), 549: ('numenta', 'ARTime', 'knncad'), 550: ('earthgeckoSkyline', 'relativeEntropy', 'numentaTM'), 551: ('earthgeckoSkyline', 'relativeEntropy', 'ARTime'), 552: ('earthgeckoSkyline', 'relativeEntropy', 'knncad'), 553: ('earthgeckoSkyline', 'numentaTM', 'ARTime'), 554: ('earthgeckoSkyline', 'numentaTM', 'knncad'), 555: ('earthgeckoSkyline', 'ARTime', 'knncad'), 556: ('relativeEntropy', 'numentaTM', 'ARTime'), 557: ('relativeEntropy', 'numentaTM', 'knncad'), 558: ('relativeEntropy', 'ARTime', 'knncad'), 559: ('numentaTM', 'ARTime', 'knncad')}"
      ]
    },
    {
      "cell_type": "code",
      "execution_count": null,
      "metadata": {
        "colab": {
          "base_uri": "https://localhost:8080/"
        },
        "id": "WT4yCTbs0niJ",
        "outputId": "a31a6a67-cb03-4bf6-c8f0-e7eef910a708"
      },
      "outputs": [
        {
          "output_type": "stream",
          "name": "stdout",
          "text": [
            "{559: ('ARTime', 'bayesChangePt', 'autoencoder'), 560: ('ARTime', 'contextOSE', 'autoencoder'), 561: ('ARTime', 'earthgeckoSkyline', 'autoencoder'), 562: ('ARTime', 'expose', 'autoencoder'), 563: ('ARTime', 'htmjava', 'autoencoder'), 564: ('ARTime', 'knncad', 'autoencoder'), 565: ('ARTime', 'null', 'autoencoder'), 566: ('ARTime', 'numenta', 'autoencoder'), 567: ('ARTime', 'numentaTM', 'autoencoder'), 568: ('ARTime', 'random', 'autoencoder'), 569: ('ARTime', 'randomCutForest', 'autoencoder'), 570: ('ARTime', 'relativeEntropy', 'autoencoder'), 571: ('ARTime', 'skyline', 'autoencoder'), 572: ('ARTime', 'twitterADVec', 'autoencoder'), 573: ('ARTime', 'windowedGaussian', 'autoencoder'), 574: ('bayesChangePt', 'contextOSE', 'autoencoder'), 575: ('bayesChangePt', 'earthgeckoSkyline', 'autoencoder'), 576: ('bayesChangePt', 'expose', 'autoencoder'), 577: ('bayesChangePt', 'htmjava', 'autoencoder'), 578: ('bayesChangePt', 'knncad', 'autoencoder'), 579: ('bayesChangePt', 'null', 'autoencoder'), 580: ('bayesChangePt', 'numenta', 'autoencoder'), 581: ('bayesChangePt', 'numentaTM', 'autoencoder'), 582: ('bayesChangePt', 'random', 'autoencoder'), 583: ('bayesChangePt', 'randomCutForest', 'autoencoder'), 584: ('bayesChangePt', 'relativeEntropy', 'autoencoder'), 585: ('bayesChangePt', 'skyline', 'autoencoder'), 586: ('bayesChangePt', 'twitterADVec', 'autoencoder'), 587: ('bayesChangePt', 'windowedGaussian', 'autoencoder'), 588: ('contextOSE', 'earthgeckoSkyline', 'autoencoder'), 589: ('contextOSE', 'expose', 'autoencoder'), 590: ('contextOSE', 'htmjava', 'autoencoder'), 591: ('contextOSE', 'knncad', 'autoencoder'), 592: ('contextOSE', 'null', 'autoencoder'), 593: ('contextOSE', 'numenta', 'autoencoder'), 594: ('contextOSE', 'numentaTM', 'autoencoder'), 595: ('contextOSE', 'random', 'autoencoder'), 596: ('contextOSE', 'randomCutForest', 'autoencoder'), 597: ('contextOSE', 'relativeEntropy', 'autoencoder'), 598: ('contextOSE', 'skyline', 'autoencoder'), 599: ('contextOSE', 'twitterADVec', 'autoencoder'), 600: ('contextOSE', 'windowedGaussian', 'autoencoder'), 601: ('earthgeckoSkyline', 'expose', 'autoencoder'), 602: ('earthgeckoSkyline', 'htmjava', 'autoencoder'), 603: ('earthgeckoSkyline', 'knncad', 'autoencoder'), 604: ('earthgeckoSkyline', 'null', 'autoencoder'), 605: ('earthgeckoSkyline', 'numenta', 'autoencoder'), 606: ('earthgeckoSkyline', 'numentaTM', 'autoencoder'), 607: ('earthgeckoSkyline', 'random', 'autoencoder'), 608: ('earthgeckoSkyline', 'randomCutForest', 'autoencoder'), 609: ('earthgeckoSkyline', 'relativeEntropy', 'autoencoder'), 610: ('earthgeckoSkyline', 'skyline', 'autoencoder'), 611: ('earthgeckoSkyline', 'twitterADVec', 'autoencoder'), 612: ('earthgeckoSkyline', 'windowedGaussian', 'autoencoder'), 613: ('expose', 'htmjava', 'autoencoder'), 614: ('expose', 'knncad', 'autoencoder'), 615: ('expose', 'null', 'autoencoder'), 616: ('expose', 'numenta', 'autoencoder'), 617: ('expose', 'numentaTM', 'autoencoder'), 618: ('expose', 'random', 'autoencoder'), 619: ('expose', 'randomCutForest', 'autoencoder'), 620: ('expose', 'relativeEntropy', 'autoencoder'), 621: ('expose', 'skyline', 'autoencoder'), 622: ('expose', 'twitterADVec', 'autoencoder'), 623: ('expose', 'windowedGaussian', 'autoencoder'), 624: ('htmjava', 'knncad', 'autoencoder'), 625: ('htmjava', 'null', 'autoencoder'), 626: ('htmjava', 'numenta', 'autoencoder'), 627: ('htmjava', 'numentaTM', 'autoencoder'), 628: ('htmjava', 'random', 'autoencoder'), 629: ('htmjava', 'randomCutForest', 'autoencoder'), 630: ('htmjava', 'relativeEntropy', 'autoencoder'), 631: ('htmjava', 'skyline', 'autoencoder'), 632: ('htmjava', 'twitterADVec', 'autoencoder'), 633: ('htmjava', 'windowedGaussian', 'autoencoder'), 634: ('knncad', 'null', 'autoencoder'), 635: ('knncad', 'numenta', 'autoencoder'), 636: ('knncad', 'numentaTM', 'autoencoder'), 637: ('knncad', 'random', 'autoencoder'), 638: ('knncad', 'randomCutForest', 'autoencoder'), 639: ('knncad', 'relativeEntropy', 'autoencoder'), 640: ('knncad', 'skyline', 'autoencoder'), 641: ('knncad', 'twitterADVec', 'autoencoder'), 642: ('knncad', 'windowedGaussian', 'autoencoder'), 643: ('null', 'numenta', 'autoencoder'), 644: ('null', 'numentaTM', 'autoencoder'), 645: ('null', 'random', 'autoencoder'), 646: ('null', 'randomCutForest', 'autoencoder'), 647: ('null', 'relativeEntropy', 'autoencoder'), 648: ('null', 'skyline', 'autoencoder'), 649: ('null', 'twitterADVec', 'autoencoder'), 650: ('null', 'windowedGaussian', 'autoencoder'), 651: ('numenta', 'numentaTM', 'autoencoder'), 652: ('numenta', 'random', 'autoencoder'), 653: ('numenta', 'randomCutForest', 'autoencoder'), 654: ('numenta', 'relativeEntropy', 'autoencoder'), 655: ('numenta', 'skyline', 'autoencoder'), 656: ('numenta', 'twitterADVec', 'autoencoder'), 657: ('numenta', 'windowedGaussian', 'autoencoder'), 658: ('numentaTM', 'random', 'autoencoder'), 659: ('numentaTM', 'randomCutForest', 'autoencoder'), 660: ('numentaTM', 'relativeEntropy', 'autoencoder'), 661: ('numentaTM', 'skyline', 'autoencoder'), 662: ('numentaTM', 'twitterADVec', 'autoencoder'), 663: ('numentaTM', 'windowedGaussian', 'autoencoder'), 664: ('random', 'randomCutForest', 'autoencoder'), 665: ('random', 'relativeEntropy', 'autoencoder'), 666: ('random', 'skyline', 'autoencoder'), 667: ('random', 'twitterADVec', 'autoencoder'), 668: ('random', 'windowedGaussian', 'autoencoder'), 669: ('randomCutForest', 'relativeEntropy', 'autoencoder'), 670: ('randomCutForest', 'skyline', 'autoencoder'), 671: ('randomCutForest', 'twitterADVec', 'autoencoder'), 672: ('randomCutForest', 'windowedGaussian', 'autoencoder'), 673: ('relativeEntropy', 'skyline', 'autoencoder'), 674: ('relativeEntropy', 'twitterADVec', 'autoencoder'), 675: ('relativeEntropy', 'windowedGaussian', 'autoencoder'), 676: ('skyline', 'twitterADVec', 'autoencoder'), 677: ('skyline', 'windowedGaussian', 'autoencoder'), 678: ('twitterADVec', 'windowedGaussian', 'autoencoder')}\n"
          ]
        }
      ],
      "source": [
        "new_algorithm_name = \"autoencoder\"\n",
        "\n",
        "algorithm_list = [\"ARTime\",\"bayesChangePt\",\"contextOSE\",\"earthgeckoSkyline\",\"expose\",\"htmjava\",\"knncad\",\"null\",\"numenta\",\"numentaTM\",\"random\",\"randomCutForest\",\"relativeEntropy\",\"skyline\",\"twitterADVec\",\"windowedGaussian\"]\n",
        "\n",
        "ensemble_list = list(combinations(algorithm_list,2))\n",
        "ENSEMBLES = {}\n",
        "for i, value in enumerate(ensemble_list):\n",
        "  val = list(value)\n",
        "  val.append(new_algorithm_name)\n",
        "  ENSEMBLES[i+559] = tuple(val)\n",
        "print(ENSEMBLES)"
      ]
    },
    {
      "cell_type": "markdown",
      "metadata": {
        "id": "E2TWukaHp_KP"
      },
      "source": [
        "\n",
        "\n",
        "##2. What are the top 10 ensembles?\n",
        "\n"
      ]
    },
    {
      "cell_type": "code",
      "execution_count": null,
      "metadata": {
        "colab": {
          "base_uri": "https://localhost:8080/"
        },
        "id": "ZasGSUvQ0WW2",
        "outputId": "43a5f3e4-b54c-4255-dd96-9b32f71d9f02"
      },
      "outputs": [
        {
          "output_type": "stream",
          "name": "stdout",
          "text": [
            "['e427', 'e445', 'e437', 'e428', 'e547', 'e395', 'e409', 'e416', 'e492', 'e512']\n"
          ]
        }
      ],
      "source": [
        "with open(\"/content/content/NAB/results/final_results.json\") as f:\n",
        "    data = json.load(f)\n",
        "\n",
        "filter_data = {key: val for key, val in data.items() if key.startswith('e') and key[1:].isdigit()}\n",
        "new_data = {key: list(val.values())[2] for key, val in filter_data.items()}\n",
        "sorted_data = sorted(new_data.items(), key=lambda x: x[1], reverse=True)\n",
        "top_10_ensembles = [key for key, val in sorted_data[:10]]\n",
        "print(top_10_ensembles)\n",
        "#print(new_data['e427'])\n",
        "#print(new_data['e445'])\n"
      ]
    },
    {
      "cell_type": "code",
      "execution_count": null,
      "metadata": {
        "colab": {
          "background_save": true
        },
        "id": "u2BWcTQh4cJx"
      },
      "outputs": [],
      "source": [
        "#df = pd.read_csv(\"/content/content/NAB/results/102/artificialNoAnomaly/102_art_daily_no_noise.csv\")\n",
        "#df.head()"
      ]
    },
    {
      "cell_type": "code",
      "execution_count": null,
      "metadata": {
        "colab": {
          "background_save": true
        },
        "id": "Gb6sxbtI8FTJ"
      },
      "outputs": [],
      "source": [
        "#df = pd.read_csv(\"/content/content/NAB/results_with_predictions/ARTime/artificialNoAnomaly/ARTime_art_daily_no_noise.csv\")\n",
        "#df.head()"
      ]
    },
    {
      "cell_type": "code",
      "execution_count": null,
      "metadata": {
        "colab": {
          "background_save": true
        },
        "id": "MrovigeVP_Cr"
      },
      "outputs": [],
      "source": [
        "#df = pd.read_csv(\"/content/content/NAB/results/ARTime/artificialNoAnomaly/ARTime_art_daily_perfect_square_wave.csv\")\n",
        "#df.head()"
      ]
    },
    {
      "cell_type": "code",
      "execution_count": null,
      "metadata": {
        "colab": {
          "background_save": true
        },
        "id": "0Rw1tYmOas44"
      },
      "outputs": [],
      "source": [
        "#df = pd.read_csv(\"/content/content/NAB/results/e427/realTweets/e427_Twitter_volume_GOOG.csv\")\n",
        "#df.head()"
      ]
    },
    {
      "cell_type": "markdown",
      "metadata": {
        "id": "EZ9z4QauIn_y"
      },
      "source": [
        "##3. In each of the top 10 ensebmles, how often did all composing algorithms agree? \n",
        "\n"
      ]
    },
    {
      "cell_type": "code",
      "execution_count": null,
      "metadata": {
        "colab": {
          "base_uri": "https://localhost:8080/"
        },
        "id": "GrSqOIxN7c5O",
        "outputId": "9a1c63ea-3697-4561-c0c0-b8838bbc19a8"
      },
      "outputs": [
        {
          "output_type": "stream",
          "name": "stdout",
          "text": [
            "{'e427': {'0': 33105, '3': 144, 'total_rows': 33495, '%_match': 0.9926556202418272}, 'e445': {'0': 32882, '3': 55, 'total_rows': 33495, '%_match': 0.9833407971339005}, 'e437': {'0': 33035, '3': 21, 'total_rows': 33495, '%_match': 0.986893566203911}, 'e428': {'0': 33025, '3': 21, 'total_rows': 33495, '%_match': 0.9865950141812211}, 'e547': {'0': 33038, '3': 25, 'total_rows': 33495, '%_match': 0.987102552619794}, 'e395': {'0': 32874, '3': 55, 'total_rows': 33495, '%_match': 0.9831019555157486}, 'e409': {'0': 32835, '3': 119, 'total_rows': 33495, '%_match': 0.9838483355724735}, 'e416': {'0': 32624, '3': 101, 'total_rows': 33495, '%_match': 0.9770114942528736}, 'e492': {'0': 32797, '3': 19, 'total_rows': 33495, '%_match': 0.9797283176593521}, 'e512': {'0': 32638, '3': 100, 'total_rows': 33495, '%_match': 0.9773996118823705}}\n"
          ]
        }
      ],
      "source": [
        "nab = \"/content/content/NAB/results/\"\n",
        "\n",
        "performance = {}\n",
        "\n",
        "#print(top_10_ensembles)\n",
        "\n",
        "for ensemble in top_10_ensembles:\n",
        "  performance[ensemble] = {'0': 0, '3': 0, 'total_rows': 0}\n",
        "  foldername = nab + ensemble\n",
        "  for folder in os.listdir(foldername):\n",
        "    data_file = foldername + \"/\" + folder\n",
        "    try:\n",
        "      for csv in os.listdir(data_file):\n",
        "        #print(csv)\n",
        "        filename = data_file + \"/\" + csv\n",
        "        df = pd.read_csv(filename)\n",
        "        df = df[df['label'] == 1]\n",
        "        performance[ensemble]['0'] += (df['anomaly_score'] == 0).sum()\n",
        "        performance[ensemble]['3'] += (df['anomaly_score'] == 3).sum()\n",
        "        performance[ensemble]['total_rows'] += df.shape[0]\n",
        "    except:\n",
        "      continue\n",
        "      \n",
        "for key, value in performance.items():\n",
        "  value['%_match'] = (value['0'] + value['3']) / value['total_rows']\n",
        "\n",
        "print(performance)"
      ]
    },
    {
      "cell_type": "markdown",
      "metadata": {
        "id": "It8cS7veI8dX"
      },
      "source": [
        "**bold text**\n",
        "\n",
        "##4. In each of the top 10 ensebmles, how often did each one of the composing algorithms disagree with the majority vote? \n",
        "\n"
      ]
    },
    {
      "cell_type": "code",
      "execution_count": null,
      "metadata": {
        "colab": {
          "base_uri": "https://localhost:8080/"
        },
        "id": "daAxxC1Uk2e0",
        "outputId": "fd54223c-95af-40bb-a8ee-610d8ecba23a"
      },
      "outputs": [
        {
          "output_type": "stream",
          "name": "stdout",
          "text": [
            "{427: {'htmjava': None, 'numenta': None, 'numentaTM': None}, 445: {'contextOSE': None, 'randomCutForest': None, 'numentaTM': None}, 437: {'htmjava': None, 'numentaTM': None, 'ARTime': None}, 428: {'htmjava': None, 'numenta': None, 'ARTime': None}, 547: {'numenta': None, 'numentaTM': None, 'ARTime': None}, 395: {'htmjava': None, 'contextOSE': None, 'randomCutForest': None}, 409: {'htmjava': None, 'randomCutForest': None, 'numentaTM': None}, 416: {'htmjava': None, 'skyline': None, 'numentaTM': None}, 492: {'randomCutForest': None, 'numenta': None, 'ARTime': None}, 512: {'skyline': None, 'numenta': None, 'numentaTM': None}}\n",
            "[427, 445, 437, 428, 547, 395, 409, 416, 492, 512]\n"
          ]
        }
      ],
      "source": [
        "top_10 = [] \n",
        "\n",
        "for ensemble in top_10_ensembles:\n",
        "  top_10.append(int(ensemble[1:]))\n",
        "\n",
        "filtered_combs = {key: ensemble_combs[key] for key in top_10}\n",
        "match_vote = filtered_combs\n",
        "\n",
        "for key, val in match_vote.items():\n",
        "  new = dict.fromkeys(val)\n",
        "  match_vote[key] = new\n",
        "\n",
        "print(match_vote)\n",
        "print(top_10)"
      ]
    },
    {
      "cell_type": "code",
      "execution_count": null,
      "metadata": {
        "colab": {
          "base_uri": "https://localhost:8080/"
        },
        "id": "tgH1DP0JCBTh",
        "outputId": "2f9a5e3a-a24c-458a-ffd7-484300b59df0"
      },
      "outputs": [
        {
          "output_type": "stream",
          "name": "stderr",
          "text": [
            "<ipython-input-66-ee18681b0e7e>:10: SettingWithCopyWarning: \n",
            "A value is trying to be set on a copy of a slice from a DataFrame.\n",
            "Try using .loc[row_indexer,col_indexer] = value instead\n",
            "\n",
            "See the caveats in the documentation: https://pandas.pydata.org/pandas-docs/stable/user_guide/indexing.html#returning-a-view-versus-a-copy\n",
            "  df1['ANOMALY'] = df1['anomaly_score'].apply(lambda x: 0 if x <= 1 else 1)\n",
            "<ipython-input-66-ee18681b0e7e>:10: SettingWithCopyWarning: \n",
            "A value is trying to be set on a copy of a slice from a DataFrame.\n",
            "Try using .loc[row_indexer,col_indexer] = value instead\n",
            "\n",
            "See the caveats in the documentation: https://pandas.pydata.org/pandas-docs/stable/user_guide/indexing.html#returning-a-view-versus-a-copy\n",
            "  df1['ANOMALY'] = df1['anomaly_score'].apply(lambda x: 0 if x <= 1 else 1)\n",
            "<ipython-input-66-ee18681b0e7e>:10: SettingWithCopyWarning: \n",
            "A value is trying to be set on a copy of a slice from a DataFrame.\n",
            "Try using .loc[row_indexer,col_indexer] = value instead\n",
            "\n",
            "See the caveats in the documentation: https://pandas.pydata.org/pandas-docs/stable/user_guide/indexing.html#returning-a-view-versus-a-copy\n",
            "  df1['ANOMALY'] = df1['anomaly_score'].apply(lambda x: 0 if x <= 1 else 1)\n",
            "<ipython-input-66-ee18681b0e7e>:10: SettingWithCopyWarning: \n",
            "A value is trying to be set on a copy of a slice from a DataFrame.\n",
            "Try using .loc[row_indexer,col_indexer] = value instead\n",
            "\n",
            "See the caveats in the documentation: https://pandas.pydata.org/pandas-docs/stable/user_guide/indexing.html#returning-a-view-versus-a-copy\n",
            "  df1['ANOMALY'] = df1['anomaly_score'].apply(lambda x: 0 if x <= 1 else 1)\n",
            "<ipython-input-66-ee18681b0e7e>:10: SettingWithCopyWarning: \n",
            "A value is trying to be set on a copy of a slice from a DataFrame.\n",
            "Try using .loc[row_indexer,col_indexer] = value instead\n",
            "\n",
            "See the caveats in the documentation: https://pandas.pydata.org/pandas-docs/stable/user_guide/indexing.html#returning-a-view-versus-a-copy\n",
            "  df1['ANOMALY'] = df1['anomaly_score'].apply(lambda x: 0 if x <= 1 else 1)\n"
          ]
        },
        {
          "output_type": "stream",
          "name": "stdout",
          "text": [
            "/content/content/NAB/results/512/realAdExchange/512_exchange-2_cpc_results.csv\n",
            "/content/content/NAB/results_with_predictions/numentaTM/realAdExchange/numentaTM_exchange-2_cpc_results.csv\n",
            "{427: {'htmjava': {'disagree_count': 92, 'total_rows': 33495}, 'numenta': {'disagree_count': 95, 'total_rows': 33495}, 'numentaTM': {'disagree_count': 59, 'total_rows': 33495}}, 445: {'contextOSE': {'disagree_count': 97, 'total_rows': 33495}, 'randomCutForest': {'disagree_count': 332, 'total_rows': 33495}, 'numentaTM': {'disagree_count': 129, 'total_rows': 33495}}, 437: {'htmjava': {'disagree_count': 76, 'total_rows': 33495}, 'numentaTM': {'disagree_count': 75, 'total_rows': 33495}, 'ARTime': {'disagree_count': 288, 'total_rows': 33495}}, 428: {'htmjava': {'disagree_count': 102, 'total_rows': 33495}, 'numenta': {'disagree_count': 85, 'total_rows': 33495}, 'ARTime': {'disagree_count': 262, 'total_rows': 33495}}, 547: {'numenta': {'disagree_count': 69, 'total_rows': 33495}, 'numentaTM': {'disagree_count': 85, 'total_rows': 33495}, 'ARTime': {'disagree_count': 278, 'total_rows': 33495}}, 395: {'htmjava': {'disagree_count': 137, 'total_rows': 33495}, 'contextOSE': {'disagree_count': 96, 'total_rows': 33495}, 'randomCutForest': {'disagree_count': 333, 'total_rows': 33495}}, 409: {'htmjava': {'disagree_count': 80, 'total_rows': 33495}, 'randomCutForest': {'disagree_count': 390, 'total_rows': 33495}, 'numentaTM': {'disagree_count': 71, 'total_rows': 33495}}, 416: {'htmjava': {'disagree_count': 80, 'total_rows': 33495}, 'skyline': {'disagree_count': 619, 'total_rows': 33495}, 'numentaTM': {'disagree_count': 71, 'total_rows': 33495}}, 492: {'randomCutForest': {'disagree_count': 332, 'total_rows': 33495}, 'numenta': {'disagree_count': 119, 'total_rows': 33495}, 'ARTime': {'disagree_count': 228, 'total_rows': 33495}}, 512: {'skyline': {'disagree_count': 603, 'total_rows': 33495}, 'numenta': {'disagree_count': 67, 'total_rows': 33495}, 'numentaTM': {'disagree_count': 87, 'total_rows': 33495}}}\n"
          ]
        }
      ],
      "source": [
        "for ensemble in top_10:\n",
        "  foldername = nab + str(ensemble)\n",
        "  for folder in os.listdir(foldername):\n",
        "    data_file = foldername + \"/\" + folder\n",
        "    try:\n",
        "      for csv in os.listdir(data_file):\n",
        "        filename1 = data_file + \"/\" + csv\n",
        "        df1 = pd.read_csv(filename1)\n",
        "        df1 = df1[df1['label'] == 1]\n",
        "        df1['ANOMALY'] = df1['anomaly_score'].apply(lambda x: 0 if x <= 1 else 1)\n",
        "        for key, val in match_vote[ensemble].items():\n",
        "          dir2 = '/content/content/NAB/results_with_predictions/'\n",
        "          filename2 = dir2 + key + \"/\" + folder + \"/\" + key + \"_\" + '_'.join(filename1.split('_')[1:])\n",
        "          df2 = pd.read_csv(filename2)\n",
        "          df2 = df2[df2['label'] == 1]\n",
        "          count = sum(df1['ANOMALY'] != df2['anomaly'])\n",
        "          rows = df1.shape[0]\n",
        "          if val == None:\n",
        "            match_vote[ensemble][key] = {'disagree_count':0, 'total_rows':0}\n",
        "            match_vote[ensemble][key]['disagree_count'] += count\n",
        "            match_vote[ensemble][key]['total_rows'] += rows\n",
        "          else:\n",
        "            match_vote[ensemble][key]['disagree_count'] += count\n",
        "            match_vote[ensemble][key]['total_rows'] += rows\n",
        "    except:\n",
        "      continue\n",
        "\n",
        "print(filename1) #ensemble file\n",
        "print(filename2) #algorithm file\n",
        "print(match_vote)"
      ]
    },
    {
      "cell_type": "code",
      "execution_count": null,
      "metadata": {
        "colab": {
          "base_uri": "https://localhost:8080/"
        },
        "id": "eTPHfrNCoFu0",
        "outputId": "1f3a928e-aae5-48e9-d22e-4421014c3245"
      },
      "outputs": [
        {
          "output_type": "stream",
          "name": "stdout",
          "text": [
            "{427: {'htmjava': {'disagree_count': 92, 'total_rows': 33495, '%_disagree': 99.725}, 'numenta': {'disagree_count': 95, 'total_rows': 33495, '%_disagree': 99.716}, 'numentaTM': {'disagree_count': 59, 'total_rows': 33495, '%_disagree': 99.824}}, 445: {'contextOSE': {'disagree_count': 97, 'total_rows': 33495, '%_disagree': 99.71}, 'randomCutForest': {'disagree_count': 332, 'total_rows': 33495, '%_disagree': 99.009}, 'numentaTM': {'disagree_count': 129, 'total_rows': 33495, '%_disagree': 99.615}}, 437: {'htmjava': {'disagree_count': 76, 'total_rows': 33495, '%_disagree': 99.773}, 'numentaTM': {'disagree_count': 75, 'total_rows': 33495, '%_disagree': 99.776}, 'ARTime': {'disagree_count': 288, 'total_rows': 33495, '%_disagree': 99.14}}, 428: {'htmjava': {'disagree_count': 102, 'total_rows': 33495, '%_disagree': 99.695}, 'numenta': {'disagree_count': 85, 'total_rows': 33495, '%_disagree': 99.746}, 'ARTime': {'disagree_count': 262, 'total_rows': 33495, '%_disagree': 99.218}}, 547: {'numenta': {'disagree_count': 69, 'total_rows': 33495, '%_disagree': 99.794}, 'numentaTM': {'disagree_count': 85, 'total_rows': 33495, '%_disagree': 99.746}, 'ARTime': {'disagree_count': 278, 'total_rows': 33495, '%_disagree': 99.17}}, 395: {'htmjava': {'disagree_count': 137, 'total_rows': 33495, '%_disagree': 99.591}, 'contextOSE': {'disagree_count': 96, 'total_rows': 33495, '%_disagree': 99.713}, 'randomCutForest': {'disagree_count': 333, 'total_rows': 33495, '%_disagree': 99.006}}, 409: {'htmjava': {'disagree_count': 80, 'total_rows': 33495, '%_disagree': 99.761}, 'randomCutForest': {'disagree_count': 390, 'total_rows': 33495, '%_disagree': 98.836}, 'numentaTM': {'disagree_count': 71, 'total_rows': 33495, '%_disagree': 99.788}}, 416: {'htmjava': {'disagree_count': 80, 'total_rows': 33495, '%_disagree': 99.761}, 'skyline': {'disagree_count': 619, 'total_rows': 33495, '%_disagree': 98.152}, 'numentaTM': {'disagree_count': 71, 'total_rows': 33495, '%_disagree': 99.788}}, 492: {'randomCutForest': {'disagree_count': 332, 'total_rows': 33495, '%_disagree': 99.009}, 'numenta': {'disagree_count': 119, 'total_rows': 33495, '%_disagree': 99.645}, 'ARTime': {'disagree_count': 228, 'total_rows': 33495, '%_disagree': 99.319}}, 512: {'skyline': {'disagree_count': 603, 'total_rows': 33495, '%_disagree': 98.2}, 'numenta': {'disagree_count': 67, 'total_rows': 33495, '%_disagree': 99.8}, 'numentaTM': {'disagree_count': 87, 'total_rows': 33495, '%_disagree': 99.74}}}\n"
          ]
        }
      ],
      "source": [
        "for key, val in match_vote.items():\n",
        "  for k, v in val.items():\n",
        "    v['%_disagree'] = 100-round(v['disagree_count']/v['total_rows'] *100, 3)\n",
        "    \n",
        "print(match_vote)"
      ]
    },
    {
      "cell_type": "markdown",
      "metadata": {
        "id": "dHItPEvXqTkc"
      },
      "source": [
        "##5. Does including the autoencoder create ensembles that outperform any of the previously tested ensembles? \n"
      ]
    },
    {
      "cell_type": "code",
      "execution_count": null,
      "metadata": {
        "colab": {
          "base_uri": "https://localhost:8080/"
        },
        "id": "yONS82M0suZf",
        "outputId": "ab7021e9-5653-4422-a87f-446ba0f93c09"
      },
      "outputs": [
        {
          "output_type": "stream",
          "name": "stdout",
          "text": [
            "['e427', 'e445', 'e437', 'e428', 'e547', 'e395', 'e409', 'e416', 'e492', 'e512']\n"
          ]
        }
      ],
      "source": [
        "with open(\"/content/final_results.json\") as f:\n",
        "    data = json.load(f)\n",
        "\n",
        "filter_data = {key: val for key, val in data.items() if key.startswith('e') and key[1:].isdigit()}\n",
        "new_data = {key: list(val.values())[2] for key, val in filter_data.items()}\n",
        "sorted_data = sorted(new_data.items(), key=lambda x: x[1], reverse=True)\n",
        "top_10_ensembles = [key for key, val in sorted_data[:10]]\n",
        "print(top_10_ensembles)"
      ]
    },
    {
      "cell_type": "markdown",
      "metadata": {
        "id": "RhzGaypowi2l"
      },
      "source": [
        "##6. How often did autoencoder disagree with majority vote?"
      ]
    },
    {
      "cell_type": "code",
      "execution_count": null,
      "metadata": {
        "colab": {
          "base_uri": "https://localhost:8080/"
        },
        "id": "bpVjlaLs0_-j",
        "outputId": "5c92e403-bedc-4a26-a650-12934427a4fc"
      },
      "outputs": [
        {
          "output_type": "stream",
          "name": "stdout",
          "text": [
            "{560: {'autoencoder': None}, 561: {'autoencoder': None}, 562: {'autoencoder': None}, 563: {'autoencoder': None}, 564: {'autoencoder': None}, 565: {'autoencoder': None}, 566: {'autoencoder': None}, 567: {'autoencoder': None}, 568: {'autoencoder': None}, 569: {'autoencoder': None}, 570: {'autoencoder': None}, 571: {'autoencoder': None}, 572: {'autoencoder': None}, 573: {'autoencoder': None}, 574: {'autoencoder': None}, 575: {'autoencoder': None}, 576: {'autoencoder': None}, 577: {'autoencoder': None}, 578: {'autoencoder': None}, 579: {'autoencoder': None}, 580: {'autoencoder': None}, 581: {'autoencoder': None}, 582: {'autoencoder': None}, 583: {'autoencoder': None}, 584: {'autoencoder': None}, 585: {'autoencoder': None}, 586: {'autoencoder': None}, 587: {'autoencoder': None}, 588: {'autoencoder': None}, 589: {'autoencoder': None}, 590: {'autoencoder': None}, 591: {'autoencoder': None}, 592: {'autoencoder': None}, 593: {'autoencoder': None}, 594: {'autoencoder': None}, 595: {'autoencoder': None}, 596: {'autoencoder': None}, 597: {'autoencoder': None}, 598: {'autoencoder': None}, 599: {'autoencoder': None}, 600: {'autoencoder': None}, 601: {'autoencoder': None}, 602: {'autoencoder': None}, 603: {'autoencoder': None}, 604: {'autoencoder': None}, 605: {'autoencoder': None}, 606: {'autoencoder': None}, 607: {'autoencoder': None}, 608: {'autoencoder': None}, 609: {'autoencoder': None}, 610: {'autoencoder': None}, 611: {'autoencoder': None}, 612: {'autoencoder': None}, 613: {'autoencoder': None}, 614: {'autoencoder': None}, 615: {'autoencoder': None}, 616: {'autoencoder': None}, 617: {'autoencoder': None}, 618: {'autoencoder': None}, 619: {'autoencoder': None}, 620: {'autoencoder': None}, 621: {'autoencoder': None}, 622: {'autoencoder': None}, 623: {'autoencoder': None}, 624: {'autoencoder': None}, 625: {'autoencoder': None}, 626: {'autoencoder': None}, 627: {'autoencoder': None}, 628: {'autoencoder': None}, 629: {'autoencoder': None}, 630: {'autoencoder': None}, 631: {'autoencoder': None}, 632: {'autoencoder': None}, 633: {'autoencoder': None}, 634: {'autoencoder': None}, 635: {'autoencoder': None}, 636: {'autoencoder': None}, 637: {'autoencoder': None}, 638: {'autoencoder': None}, 639: {'autoencoder': None}, 640: {'autoencoder': None}, 641: {'autoencoder': None}, 642: {'autoencoder': None}, 643: {'autoencoder': None}, 644: {'autoencoder': None}, 645: {'autoencoder': None}, 646: {'autoencoder': None}, 647: {'autoencoder': None}, 648: {'autoencoder': None}, 649: {'autoencoder': None}, 650: {'autoencoder': None}, 651: {'autoencoder': None}, 652: {'autoencoder': None}, 653: {'autoencoder': None}, 654: {'autoencoder': None}, 655: {'autoencoder': None}, 656: {'autoencoder': None}, 657: {'autoencoder': None}, 658: {'autoencoder': None}, 659: {'autoencoder': None}, 660: {'autoencoder': None}, 661: {'autoencoder': None}, 662: {'autoencoder': None}, 663: {'autoencoder': None}, 664: {'autoencoder': None}, 665: {'autoencoder': None}, 666: {'autoencoder': None}, 667: {'autoencoder': None}, 668: {'autoencoder': None}, 669: {'autoencoder': None}, 670: {'autoencoder': None}, 671: {'autoencoder': None}, 672: {'autoencoder': None}, 673: {'autoencoder': None}, 674: {'autoencoder': None}, 675: {'autoencoder': None}, 676: {'autoencoder': None}, 677: {'autoencoder': None}}\n"
          ]
        }
      ],
      "source": [
        "autoencoder_ensembles = list(range(560, 678, 1))\n",
        "val = {'autoencoder':None}\n",
        "match_vote = {key: val for key in autoencoder_ensembles}\n",
        "print(match_vote)\n"
      ]
    },
    {
      "cell_type": "code",
      "execution_count": null,
      "metadata": {
        "id": "Uhfm7Sqv7CLt"
      },
      "outputs": [],
      "source": [
        "#!cd /content/content/NAB/results && ls"
      ]
    },
    {
      "cell_type": "code",
      "execution_count": null,
      "metadata": {
        "colab": {
          "base_uri": "https://localhost:8080/"
        },
        "id": "qc7dFMnx3lq6",
        "outputId": "2af9708f-c247-4fb2-d103-7aa7ea9ba1a0"
      },
      "outputs": [
        {
          "output_type": "stream",
          "name": "stderr",
          "text": [
            "<ipython-input-70-d10e7bb5e68f>:11: SettingWithCopyWarning: \n",
            "A value is trying to be set on a copy of a slice from a DataFrame.\n",
            "Try using .loc[row_indexer,col_indexer] = value instead\n",
            "\n",
            "See the caveats in the documentation: https://pandas.pydata.org/pandas-docs/stable/user_guide/indexing.html#returning-a-view-versus-a-copy\n",
            "  df1['ANOMALY'] = df1['anomaly_score'].apply(lambda x: 0 if x <= 1 else 1)\n",
            "<ipython-input-70-d10e7bb5e68f>:11: SettingWithCopyWarning: \n",
            "A value is trying to be set on a copy of a slice from a DataFrame.\n",
            "Try using .loc[row_indexer,col_indexer] = value instead\n",
            "\n",
            "See the caveats in the documentation: https://pandas.pydata.org/pandas-docs/stable/user_guide/indexing.html#returning-a-view-versus-a-copy\n",
            "  df1['ANOMALY'] = df1['anomaly_score'].apply(lambda x: 0 if x <= 1 else 1)\n",
            "<ipython-input-70-d10e7bb5e68f>:11: SettingWithCopyWarning: \n",
            "A value is trying to be set on a copy of a slice from a DataFrame.\n",
            "Try using .loc[row_indexer,col_indexer] = value instead\n",
            "\n",
            "See the caveats in the documentation: https://pandas.pydata.org/pandas-docs/stable/user_guide/indexing.html#returning-a-view-versus-a-copy\n",
            "  df1['ANOMALY'] = df1['anomaly_score'].apply(lambda x: 0 if x <= 1 else 1)\n",
            "<ipython-input-70-d10e7bb5e68f>:11: SettingWithCopyWarning: \n",
            "A value is trying to be set on a copy of a slice from a DataFrame.\n",
            "Try using .loc[row_indexer,col_indexer] = value instead\n",
            "\n",
            "See the caveats in the documentation: https://pandas.pydata.org/pandas-docs/stable/user_guide/indexing.html#returning-a-view-versus-a-copy\n",
            "  df1['ANOMALY'] = df1['anomaly_score'].apply(lambda x: 0 if x <= 1 else 1)\n",
            "<ipython-input-70-d10e7bb5e68f>:11: SettingWithCopyWarning: \n",
            "A value is trying to be set on a copy of a slice from a DataFrame.\n",
            "Try using .loc[row_indexer,col_indexer] = value instead\n",
            "\n",
            "See the caveats in the documentation: https://pandas.pydata.org/pandas-docs/stable/user_guide/indexing.html#returning-a-view-versus-a-copy\n",
            "  df1['ANOMALY'] = df1['anomaly_score'].apply(lambda x: 0 if x <= 1 else 1)\n",
            "<ipython-input-70-d10e7bb5e68f>:11: SettingWithCopyWarning: \n",
            "A value is trying to be set on a copy of a slice from a DataFrame.\n",
            "Try using .loc[row_indexer,col_indexer] = value instead\n",
            "\n",
            "See the caveats in the documentation: https://pandas.pydata.org/pandas-docs/stable/user_guide/indexing.html#returning-a-view-versus-a-copy\n",
            "  df1['ANOMALY'] = df1['anomaly_score'].apply(lambda x: 0 if x <= 1 else 1)\n",
            "<ipython-input-70-d10e7bb5e68f>:11: SettingWithCopyWarning: \n",
            "A value is trying to be set on a copy of a slice from a DataFrame.\n",
            "Try using .loc[row_indexer,col_indexer] = value instead\n",
            "\n",
            "See the caveats in the documentation: https://pandas.pydata.org/pandas-docs/stable/user_guide/indexing.html#returning-a-view-versus-a-copy\n",
            "  df1['ANOMALY'] = df1['anomaly_score'].apply(lambda x: 0 if x <= 1 else 1)\n",
            "<ipython-input-70-d10e7bb5e68f>:11: SettingWithCopyWarning: \n",
            "A value is trying to be set on a copy of a slice from a DataFrame.\n",
            "Try using .loc[row_indexer,col_indexer] = value instead\n",
            "\n",
            "See the caveats in the documentation: https://pandas.pydata.org/pandas-docs/stable/user_guide/indexing.html#returning-a-view-versus-a-copy\n",
            "  df1['ANOMALY'] = df1['anomaly_score'].apply(lambda x: 0 if x <= 1 else 1)\n"
          ]
        },
        {
          "output_type": "stream",
          "name": "stdout",
          "text": [
            "{560: {'autoencoder': {'disagree_count': 1180, 'total_rows': 3658}}, 561: {'autoencoder': {'disagree_count': 1180, 'total_rows': 3658}}, 562: {'autoencoder': {'disagree_count': 1180, 'total_rows': 3658}}, 563: {'autoencoder': {'disagree_count': 1180, 'total_rows': 3658}}, 564: {'autoencoder': {'disagree_count': 1180, 'total_rows': 3658}}, 565: {'autoencoder': {'disagree_count': 1180, 'total_rows': 3658}}, 566: {'autoencoder': {'disagree_count': 1180, 'total_rows': 3658}}, 567: {'autoencoder': {'disagree_count': 1180, 'total_rows': 3658}}, 568: {'autoencoder': {'disagree_count': 1180, 'total_rows': 3658}}, 569: {'autoencoder': {'disagree_count': 1180, 'total_rows': 3658}}, 570: {'autoencoder': {'disagree_count': 1180, 'total_rows': 3658}}, 571: {'autoencoder': {'disagree_count': 1180, 'total_rows': 3658}}, 572: {'autoencoder': {'disagree_count': 1180, 'total_rows': 3658}}, 573: {'autoencoder': {'disagree_count': 1180, 'total_rows': 3658}}, 574: {'autoencoder': {'disagree_count': 1180, 'total_rows': 3658}}, 575: {'autoencoder': {'disagree_count': 1180, 'total_rows': 3658}}, 576: {'autoencoder': {'disagree_count': 1180, 'total_rows': 3658}}, 577: {'autoencoder': {'disagree_count': 1180, 'total_rows': 3658}}, 578: {'autoencoder': {'disagree_count': 1180, 'total_rows': 3658}}, 579: {'autoencoder': {'disagree_count': 1180, 'total_rows': 3658}}, 580: {'autoencoder': {'disagree_count': 1180, 'total_rows': 3658}}, 581: {'autoencoder': {'disagree_count': 1180, 'total_rows': 3658}}, 582: {'autoencoder': {'disagree_count': 1180, 'total_rows': 3658}}, 583: {'autoencoder': {'disagree_count': 1180, 'total_rows': 3658}}, 584: {'autoencoder': {'disagree_count': 1180, 'total_rows': 3658}}, 585: {'autoencoder': {'disagree_count': 1180, 'total_rows': 3658}}, 586: {'autoencoder': {'disagree_count': 1180, 'total_rows': 3658}}, 587: {'autoencoder': {'disagree_count': 1180, 'total_rows': 3658}}, 588: {'autoencoder': {'disagree_count': 1180, 'total_rows': 3658}}, 589: {'autoencoder': {'disagree_count': 1180, 'total_rows': 3658}}, 590: {'autoencoder': {'disagree_count': 1180, 'total_rows': 3658}}, 591: {'autoencoder': {'disagree_count': 1180, 'total_rows': 3658}}, 592: {'autoencoder': {'disagree_count': 1180, 'total_rows': 3658}}, 593: {'autoencoder': {'disagree_count': 1180, 'total_rows': 3658}}, 594: {'autoencoder': {'disagree_count': 1180, 'total_rows': 3658}}, 595: {'autoencoder': {'disagree_count': 1180, 'total_rows': 3658}}, 596: {'autoencoder': {'disagree_count': 1180, 'total_rows': 3658}}, 597: {'autoencoder': {'disagree_count': 1180, 'total_rows': 3658}}, 598: {'autoencoder': {'disagree_count': 1180, 'total_rows': 3658}}, 599: {'autoencoder': {'disagree_count': 1180, 'total_rows': 3658}}, 600: {'autoencoder': {'disagree_count': 1180, 'total_rows': 3658}}, 601: {'autoencoder': {'disagree_count': 1180, 'total_rows': 3658}}, 602: {'autoencoder': {'disagree_count': 1180, 'total_rows': 3658}}, 603: {'autoencoder': {'disagree_count': 1180, 'total_rows': 3658}}, 604: {'autoencoder': {'disagree_count': 1180, 'total_rows': 3658}}, 605: {'autoencoder': {'disagree_count': 1180, 'total_rows': 3658}}, 606: {'autoencoder': {'disagree_count': 1180, 'total_rows': 3658}}, 607: {'autoencoder': {'disagree_count': 1180, 'total_rows': 3658}}, 608: {'autoencoder': {'disagree_count': 1180, 'total_rows': 3658}}, 609: {'autoencoder': {'disagree_count': 1180, 'total_rows': 3658}}, 610: {'autoencoder': {'disagree_count': 1180, 'total_rows': 3658}}, 611: {'autoencoder': {'disagree_count': 1180, 'total_rows': 3658}}, 612: {'autoencoder': {'disagree_count': 1180, 'total_rows': 3658}}, 613: {'autoencoder': {'disagree_count': 1180, 'total_rows': 3658}}, 614: {'autoencoder': {'disagree_count': 1180, 'total_rows': 3658}}, 615: {'autoencoder': {'disagree_count': 1180, 'total_rows': 3658}}, 616: {'autoencoder': {'disagree_count': 1180, 'total_rows': 3658}}, 617: {'autoencoder': {'disagree_count': 1180, 'total_rows': 3658}}, 618: {'autoencoder': {'disagree_count': 1180, 'total_rows': 3658}}, 619: {'autoencoder': {'disagree_count': 1180, 'total_rows': 3658}}, 620: {'autoencoder': {'disagree_count': 1180, 'total_rows': 3658}}, 621: {'autoencoder': {'disagree_count': 1180, 'total_rows': 3658}}, 622: {'autoencoder': {'disagree_count': 1180, 'total_rows': 3658}}, 623: {'autoencoder': {'disagree_count': 1180, 'total_rows': 3658}}, 624: {'autoencoder': {'disagree_count': 1180, 'total_rows': 3658}}, 625: {'autoencoder': {'disagree_count': 1180, 'total_rows': 3658}}, 626: {'autoencoder': {'disagree_count': 1180, 'total_rows': 3658}}, 627: {'autoencoder': {'disagree_count': 1180, 'total_rows': 3658}}, 628: {'autoencoder': {'disagree_count': 1180, 'total_rows': 3658}}, 629: {'autoencoder': {'disagree_count': 1180, 'total_rows': 3658}}, 630: {'autoencoder': {'disagree_count': 1180, 'total_rows': 3658}}, 631: {'autoencoder': {'disagree_count': 1180, 'total_rows': 3658}}, 632: {'autoencoder': {'disagree_count': 1180, 'total_rows': 3658}}, 633: {'autoencoder': {'disagree_count': 1180, 'total_rows': 3658}}, 634: {'autoencoder': {'disagree_count': 1180, 'total_rows': 3658}}, 635: {'autoencoder': {'disagree_count': 1180, 'total_rows': 3658}}, 636: {'autoencoder': {'disagree_count': 1180, 'total_rows': 3658}}, 637: {'autoencoder': {'disagree_count': 1180, 'total_rows': 3658}}, 638: {'autoencoder': {'disagree_count': 1180, 'total_rows': 3658}}, 639: {'autoencoder': {'disagree_count': 1180, 'total_rows': 3658}}, 640: {'autoencoder': {'disagree_count': 1180, 'total_rows': 3658}}, 641: {'autoencoder': {'disagree_count': 1180, 'total_rows': 3658}}, 642: {'autoencoder': {'disagree_count': 1180, 'total_rows': 3658}}, 643: {'autoencoder': {'disagree_count': 1180, 'total_rows': 3658}}, 644: {'autoencoder': {'disagree_count': 1180, 'total_rows': 3658}}, 645: {'autoencoder': {'disagree_count': 1180, 'total_rows': 3658}}, 646: {'autoencoder': {'disagree_count': 1180, 'total_rows': 3658}}, 647: {'autoencoder': {'disagree_count': 1180, 'total_rows': 3658}}, 648: {'autoencoder': {'disagree_count': 1180, 'total_rows': 3658}}, 649: {'autoencoder': {'disagree_count': 1180, 'total_rows': 3658}}, 650: {'autoencoder': {'disagree_count': 1180, 'total_rows': 3658}}, 651: {'autoencoder': {'disagree_count': 1180, 'total_rows': 3658}}, 652: {'autoencoder': {'disagree_count': 1180, 'total_rows': 3658}}, 653: {'autoencoder': {'disagree_count': 1180, 'total_rows': 3658}}, 654: {'autoencoder': {'disagree_count': 1180, 'total_rows': 3658}}, 655: {'autoencoder': {'disagree_count': 1180, 'total_rows': 3658}}, 656: {'autoencoder': {'disagree_count': 1180, 'total_rows': 3658}}, 657: {'autoencoder': {'disagree_count': 1180, 'total_rows': 3658}}, 658: {'autoencoder': {'disagree_count': 1180, 'total_rows': 3658}}, 659: {'autoencoder': {'disagree_count': 1180, 'total_rows': 3658}}, 660: {'autoencoder': {'disagree_count': 1180, 'total_rows': 3658}}, 661: {'autoencoder': {'disagree_count': 1180, 'total_rows': 3658}}, 662: {'autoencoder': {'disagree_count': 1180, 'total_rows': 3658}}, 663: {'autoencoder': {'disagree_count': 1180, 'total_rows': 3658}}, 664: {'autoencoder': {'disagree_count': 1180, 'total_rows': 3658}}, 665: {'autoencoder': {'disagree_count': 1180, 'total_rows': 3658}}, 666: {'autoencoder': {'disagree_count': 1180, 'total_rows': 3658}}, 667: {'autoencoder': {'disagree_count': 1180, 'total_rows': 3658}}, 668: {'autoencoder': {'disagree_count': 1180, 'total_rows': 3658}}, 669: {'autoencoder': {'disagree_count': 1180, 'total_rows': 3658}}, 670: {'autoencoder': {'disagree_count': 1180, 'total_rows': 3658}}, 671: {'autoencoder': {'disagree_count': 1180, 'total_rows': 3658}}, 672: {'autoencoder': {'disagree_count': 1180, 'total_rows': 3658}}, 673: {'autoencoder': {'disagree_count': 1180, 'total_rows': 3658}}, 674: {'autoencoder': {'disagree_count': 1180, 'total_rows': 3658}}, 675: {'autoencoder': {'disagree_count': 1180, 'total_rows': 3658}}, 676: {'autoencoder': {'disagree_count': 1180, 'total_rows': 3658}}, 677: {'autoencoder': {'disagree_count': 1180, 'total_rows': 3658}}}\n"
          ]
        },
        {
          "output_type": "stream",
          "name": "stderr",
          "text": [
            "<ipython-input-70-d10e7bb5e68f>:11: SettingWithCopyWarning: \n",
            "A value is trying to be set on a copy of a slice from a DataFrame.\n",
            "Try using .loc[row_indexer,col_indexer] = value instead\n",
            "\n",
            "See the caveats in the documentation: https://pandas.pydata.org/pandas-docs/stable/user_guide/indexing.html#returning-a-view-versus-a-copy\n",
            "  df1['ANOMALY'] = df1['anomaly_score'].apply(lambda x: 0 if x <= 1 else 1)\n"
          ]
        }
      ],
      "source": [
        "for ensemble in autoencoder_ensembles:\n",
        "  foldername = \"/content/e\" + str(ensemble)\n",
        "  for folder in os.listdir(foldername):\n",
        "    data_file = foldername + \"/\" + folder\n",
        "    try:\n",
        "      for csv in os.listdir(data_file):\n",
        "        filename1 = data_file + \"/\" + csv\n",
        "        #print(filename1)\n",
        "        df1 = pd.read_csv(filename1)\n",
        "        df1 = df1[df1['label'] == 1]\n",
        "        df1['ANOMALY'] = df1['anomaly_score'].apply(lambda x: 0 if x <= 1 else 1)\n",
        "        for key, val in match_vote[ensemble].items():\n",
        "          filename2 = \"/content/e1000\" + \"/\" + folder + \"/\" + \"e1000\" + \"_\" + '_'.join(filename1.split('_')[1:])\n",
        "          df2 = pd.read_csv(filename2)\n",
        "          df2 = df2[df2['label'] == 1]\n",
        "          count = sum(df1['ANOMALY'] != df2['anomaly_score'])\n",
        "          rows = df1.shape[0]\n",
        "          if val == None:\n",
        "            match_vote[ensemble][key] = {'disagree_count':0, 'total_rows':0}\n",
        "            match_vote[ensemble][key]['disagree_count'] += count\n",
        "            match_vote[ensemble][key]['total_rows'] += rows\n",
        "          else:\n",
        "            match_vote[ensemble][key]['disagree_count'] += count\n",
        "            match_vote[ensemble][key]['total_rows'] += rows\n",
        "    except:\n",
        "      continue\n",
        "      \n",
        "print(match_vote)"
      ]
    },
    {
      "cell_type": "code",
      "execution_count": null,
      "metadata": {
        "colab": {
          "base_uri": "https://localhost:8080/"
        },
        "outputId": "73c0f661-dd52-4180-eb2f-0c129e5e4cef",
        "id": "Qgls2Hb0QGuk"
      },
      "outputs": [
        {
          "output_type": "stream",
          "name": "stdout",
          "text": [
            "{560: {'autoencoder': {'disagree_count': 1180, 'total_rows': 3658, '%_disagree': 67.74199999999999}}, 561: {'autoencoder': {'disagree_count': 1180, 'total_rows': 3658, '%_disagree': 67.74199999999999}}, 562: {'autoencoder': {'disagree_count': 1180, 'total_rows': 3658, '%_disagree': 67.74199999999999}}, 563: {'autoencoder': {'disagree_count': 1180, 'total_rows': 3658, '%_disagree': 67.74199999999999}}, 564: {'autoencoder': {'disagree_count': 1180, 'total_rows': 3658, '%_disagree': 67.74199999999999}}, 565: {'autoencoder': {'disagree_count': 1180, 'total_rows': 3658, '%_disagree': 67.74199999999999}}, 566: {'autoencoder': {'disagree_count': 1180, 'total_rows': 3658, '%_disagree': 67.74199999999999}}, 567: {'autoencoder': {'disagree_count': 1180, 'total_rows': 3658, '%_disagree': 67.74199999999999}}, 568: {'autoencoder': {'disagree_count': 1180, 'total_rows': 3658, '%_disagree': 67.74199999999999}}, 569: {'autoencoder': {'disagree_count': 1180, 'total_rows': 3658, '%_disagree': 67.74199999999999}}, 570: {'autoencoder': {'disagree_count': 1180, 'total_rows': 3658, '%_disagree': 67.74199999999999}}, 571: {'autoencoder': {'disagree_count': 1180, 'total_rows': 3658, '%_disagree': 67.74199999999999}}, 572: {'autoencoder': {'disagree_count': 1180, 'total_rows': 3658, '%_disagree': 67.74199999999999}}, 573: {'autoencoder': {'disagree_count': 1180, 'total_rows': 3658, '%_disagree': 67.74199999999999}}, 574: {'autoencoder': {'disagree_count': 1180, 'total_rows': 3658, '%_disagree': 67.74199999999999}}, 575: {'autoencoder': {'disagree_count': 1180, 'total_rows': 3658, '%_disagree': 67.74199999999999}}, 576: {'autoencoder': {'disagree_count': 1180, 'total_rows': 3658, '%_disagree': 67.74199999999999}}, 577: {'autoencoder': {'disagree_count': 1180, 'total_rows': 3658, '%_disagree': 67.74199999999999}}, 578: {'autoencoder': {'disagree_count': 1180, 'total_rows': 3658, '%_disagree': 67.74199999999999}}, 579: {'autoencoder': {'disagree_count': 1180, 'total_rows': 3658, '%_disagree': 67.74199999999999}}, 580: {'autoencoder': {'disagree_count': 1180, 'total_rows': 3658, '%_disagree': 67.74199999999999}}, 581: {'autoencoder': {'disagree_count': 1180, 'total_rows': 3658, '%_disagree': 67.74199999999999}}, 582: {'autoencoder': {'disagree_count': 1180, 'total_rows': 3658, '%_disagree': 67.74199999999999}}, 583: {'autoencoder': {'disagree_count': 1180, 'total_rows': 3658, '%_disagree': 67.74199999999999}}, 584: {'autoencoder': {'disagree_count': 1180, 'total_rows': 3658, '%_disagree': 67.74199999999999}}, 585: {'autoencoder': {'disagree_count': 1180, 'total_rows': 3658, '%_disagree': 67.74199999999999}}, 586: {'autoencoder': {'disagree_count': 1180, 'total_rows': 3658, '%_disagree': 67.74199999999999}}, 587: {'autoencoder': {'disagree_count': 1180, 'total_rows': 3658, '%_disagree': 67.74199999999999}}, 588: {'autoencoder': {'disagree_count': 1180, 'total_rows': 3658, '%_disagree': 67.74199999999999}}, 589: {'autoencoder': {'disagree_count': 1180, 'total_rows': 3658, '%_disagree': 67.74199999999999}}, 590: {'autoencoder': {'disagree_count': 1180, 'total_rows': 3658, '%_disagree': 67.74199999999999}}, 591: {'autoencoder': {'disagree_count': 1180, 'total_rows': 3658, '%_disagree': 67.74199999999999}}, 592: {'autoencoder': {'disagree_count': 1180, 'total_rows': 3658, '%_disagree': 67.74199999999999}}, 593: {'autoencoder': {'disagree_count': 1180, 'total_rows': 3658, '%_disagree': 67.74199999999999}}, 594: {'autoencoder': {'disagree_count': 1180, 'total_rows': 3658, '%_disagree': 67.74199999999999}}, 595: {'autoencoder': {'disagree_count': 1180, 'total_rows': 3658, '%_disagree': 67.74199999999999}}, 596: {'autoencoder': {'disagree_count': 1180, 'total_rows': 3658, '%_disagree': 67.74199999999999}}, 597: {'autoencoder': {'disagree_count': 1180, 'total_rows': 3658, '%_disagree': 67.74199999999999}}, 598: {'autoencoder': {'disagree_count': 1180, 'total_rows': 3658, '%_disagree': 67.74199999999999}}, 599: {'autoencoder': {'disagree_count': 1180, 'total_rows': 3658, '%_disagree': 67.74199999999999}}, 600: {'autoencoder': {'disagree_count': 1180, 'total_rows': 3658, '%_disagree': 67.74199999999999}}, 601: {'autoencoder': {'disagree_count': 1180, 'total_rows': 3658, '%_disagree': 67.74199999999999}}, 602: {'autoencoder': {'disagree_count': 1180, 'total_rows': 3658, '%_disagree': 67.74199999999999}}, 603: {'autoencoder': {'disagree_count': 1180, 'total_rows': 3658, '%_disagree': 67.74199999999999}}, 604: {'autoencoder': {'disagree_count': 1180, 'total_rows': 3658, '%_disagree': 67.74199999999999}}, 605: {'autoencoder': {'disagree_count': 1180, 'total_rows': 3658, '%_disagree': 67.74199999999999}}, 606: {'autoencoder': {'disagree_count': 1180, 'total_rows': 3658, '%_disagree': 67.74199999999999}}, 607: {'autoencoder': {'disagree_count': 1180, 'total_rows': 3658, '%_disagree': 67.74199999999999}}, 608: {'autoencoder': {'disagree_count': 1180, 'total_rows': 3658, '%_disagree': 67.74199999999999}}, 609: {'autoencoder': {'disagree_count': 1180, 'total_rows': 3658, '%_disagree': 67.74199999999999}}, 610: {'autoencoder': {'disagree_count': 1180, 'total_rows': 3658, '%_disagree': 67.74199999999999}}, 611: {'autoencoder': {'disagree_count': 1180, 'total_rows': 3658, '%_disagree': 67.74199999999999}}, 612: {'autoencoder': {'disagree_count': 1180, 'total_rows': 3658, '%_disagree': 67.74199999999999}}, 613: {'autoencoder': {'disagree_count': 1180, 'total_rows': 3658, '%_disagree': 67.74199999999999}}, 614: {'autoencoder': {'disagree_count': 1180, 'total_rows': 3658, '%_disagree': 67.74199999999999}}, 615: {'autoencoder': {'disagree_count': 1180, 'total_rows': 3658, '%_disagree': 67.74199999999999}}, 616: {'autoencoder': {'disagree_count': 1180, 'total_rows': 3658, '%_disagree': 67.74199999999999}}, 617: {'autoencoder': {'disagree_count': 1180, 'total_rows': 3658, '%_disagree': 67.74199999999999}}, 618: {'autoencoder': {'disagree_count': 1180, 'total_rows': 3658, '%_disagree': 67.74199999999999}}, 619: {'autoencoder': {'disagree_count': 1180, 'total_rows': 3658, '%_disagree': 67.74199999999999}}, 620: {'autoencoder': {'disagree_count': 1180, 'total_rows': 3658, '%_disagree': 67.74199999999999}}, 621: {'autoencoder': {'disagree_count': 1180, 'total_rows': 3658, '%_disagree': 67.74199999999999}}, 622: {'autoencoder': {'disagree_count': 1180, 'total_rows': 3658, '%_disagree': 67.74199999999999}}, 623: {'autoencoder': {'disagree_count': 1180, 'total_rows': 3658, '%_disagree': 67.74199999999999}}, 624: {'autoencoder': {'disagree_count': 1180, 'total_rows': 3658, '%_disagree': 67.74199999999999}}, 625: {'autoencoder': {'disagree_count': 1180, 'total_rows': 3658, '%_disagree': 67.74199999999999}}, 626: {'autoencoder': {'disagree_count': 1180, 'total_rows': 3658, '%_disagree': 67.74199999999999}}, 627: {'autoencoder': {'disagree_count': 1180, 'total_rows': 3658, '%_disagree': 67.74199999999999}}, 628: {'autoencoder': {'disagree_count': 1180, 'total_rows': 3658, '%_disagree': 67.74199999999999}}, 629: {'autoencoder': {'disagree_count': 1180, 'total_rows': 3658, '%_disagree': 67.74199999999999}}, 630: {'autoencoder': {'disagree_count': 1180, 'total_rows': 3658, '%_disagree': 67.74199999999999}}, 631: {'autoencoder': {'disagree_count': 1180, 'total_rows': 3658, '%_disagree': 67.74199999999999}}, 632: {'autoencoder': {'disagree_count': 1180, 'total_rows': 3658, '%_disagree': 67.74199999999999}}, 633: {'autoencoder': {'disagree_count': 1180, 'total_rows': 3658, '%_disagree': 67.74199999999999}}, 634: {'autoencoder': {'disagree_count': 1180, 'total_rows': 3658, '%_disagree': 67.74199999999999}}, 635: {'autoencoder': {'disagree_count': 1180, 'total_rows': 3658, '%_disagree': 67.74199999999999}}, 636: {'autoencoder': {'disagree_count': 1180, 'total_rows': 3658, '%_disagree': 67.74199999999999}}, 637: {'autoencoder': {'disagree_count': 1180, 'total_rows': 3658, '%_disagree': 67.74199999999999}}, 638: {'autoencoder': {'disagree_count': 1180, 'total_rows': 3658, '%_disagree': 67.74199999999999}}, 639: {'autoencoder': {'disagree_count': 1180, 'total_rows': 3658, '%_disagree': 67.74199999999999}}, 640: {'autoencoder': {'disagree_count': 1180, 'total_rows': 3658, '%_disagree': 67.74199999999999}}, 641: {'autoencoder': {'disagree_count': 1180, 'total_rows': 3658, '%_disagree': 67.74199999999999}}, 642: {'autoencoder': {'disagree_count': 1180, 'total_rows': 3658, '%_disagree': 67.74199999999999}}, 643: {'autoencoder': {'disagree_count': 1180, 'total_rows': 3658, '%_disagree': 67.74199999999999}}, 644: {'autoencoder': {'disagree_count': 1180, 'total_rows': 3658, '%_disagree': 67.74199999999999}}, 645: {'autoencoder': {'disagree_count': 1180, 'total_rows': 3658, '%_disagree': 67.74199999999999}}, 646: {'autoencoder': {'disagree_count': 1180, 'total_rows': 3658, '%_disagree': 67.74199999999999}}, 647: {'autoencoder': {'disagree_count': 1180, 'total_rows': 3658, '%_disagree': 67.74199999999999}}, 648: {'autoencoder': {'disagree_count': 1180, 'total_rows': 3658, '%_disagree': 67.74199999999999}}, 649: {'autoencoder': {'disagree_count': 1180, 'total_rows': 3658, '%_disagree': 67.74199999999999}}, 650: {'autoencoder': {'disagree_count': 1180, 'total_rows': 3658, '%_disagree': 67.74199999999999}}, 651: {'autoencoder': {'disagree_count': 1180, 'total_rows': 3658, '%_disagree': 67.74199999999999}}, 652: {'autoencoder': {'disagree_count': 1180, 'total_rows': 3658, '%_disagree': 67.74199999999999}}, 653: {'autoencoder': {'disagree_count': 1180, 'total_rows': 3658, '%_disagree': 67.74199999999999}}, 654: {'autoencoder': {'disagree_count': 1180, 'total_rows': 3658, '%_disagree': 67.74199999999999}}, 655: {'autoencoder': {'disagree_count': 1180, 'total_rows': 3658, '%_disagree': 67.74199999999999}}, 656: {'autoencoder': {'disagree_count': 1180, 'total_rows': 3658, '%_disagree': 67.74199999999999}}, 657: {'autoencoder': {'disagree_count': 1180, 'total_rows': 3658, '%_disagree': 67.74199999999999}}, 658: {'autoencoder': {'disagree_count': 1180, 'total_rows': 3658, '%_disagree': 67.74199999999999}}, 659: {'autoencoder': {'disagree_count': 1180, 'total_rows': 3658, '%_disagree': 67.74199999999999}}, 660: {'autoencoder': {'disagree_count': 1180, 'total_rows': 3658, '%_disagree': 67.74199999999999}}, 661: {'autoencoder': {'disagree_count': 1180, 'total_rows': 3658, '%_disagree': 67.74199999999999}}, 662: {'autoencoder': {'disagree_count': 1180, 'total_rows': 3658, '%_disagree': 67.74199999999999}}, 663: {'autoencoder': {'disagree_count': 1180, 'total_rows': 3658, '%_disagree': 67.74199999999999}}, 664: {'autoencoder': {'disagree_count': 1180, 'total_rows': 3658, '%_disagree': 67.74199999999999}}, 665: {'autoencoder': {'disagree_count': 1180, 'total_rows': 3658, '%_disagree': 67.74199999999999}}, 666: {'autoencoder': {'disagree_count': 1180, 'total_rows': 3658, '%_disagree': 67.74199999999999}}, 667: {'autoencoder': {'disagree_count': 1180, 'total_rows': 3658, '%_disagree': 67.74199999999999}}, 668: {'autoencoder': {'disagree_count': 1180, 'total_rows': 3658, '%_disagree': 67.74199999999999}}, 669: {'autoencoder': {'disagree_count': 1180, 'total_rows': 3658, '%_disagree': 67.74199999999999}}, 670: {'autoencoder': {'disagree_count': 1180, 'total_rows': 3658, '%_disagree': 67.74199999999999}}, 671: {'autoencoder': {'disagree_count': 1180, 'total_rows': 3658, '%_disagree': 67.74199999999999}}, 672: {'autoencoder': {'disagree_count': 1180, 'total_rows': 3658, '%_disagree': 67.74199999999999}}, 673: {'autoencoder': {'disagree_count': 1180, 'total_rows': 3658, '%_disagree': 67.74199999999999}}, 674: {'autoencoder': {'disagree_count': 1180, 'total_rows': 3658, '%_disagree': 67.74199999999999}}, 675: {'autoencoder': {'disagree_count': 1180, 'total_rows': 3658, '%_disagree': 67.74199999999999}}, 676: {'autoencoder': {'disagree_count': 1180, 'total_rows': 3658, '%_disagree': 67.74199999999999}}, 677: {'autoencoder': {'disagree_count': 1180, 'total_rows': 3658, '%_disagree': 67.74199999999999}}}\n"
          ]
        }
      ],
      "source": [
        "for key, val in match_vote.items():\n",
        "  for k, v in val.items():\n",
        "    v['%_disagree'] = 100-round(v['disagree_count']/v['total_rows'] *100, 3)\n",
        "    \n",
        "print(match_vote)"
      ]
    },
    {
      "cell_type": "markdown",
      "metadata": {
        "id": "oXyr3ZhnARuP"
      },
      "source": [
        "##7. How does the autoencoder performance alone compare to the other algorithms?"
      ]
    },
    {
      "cell_type": "code",
      "execution_count": null,
      "metadata": {
        "id": "pmWz70Yh5oK0",
        "colab": {
          "base_uri": "https://localhost:8080/"
        },
        "outputId": "8280f3de-5665-4718-898a-b57dd16f6c69"
      },
      "outputs": [
        {
          "output_type": "stream",
          "name": "stdout",
          "text": [
            "[('ARTime', 74.85377223215792), ('numenta', 70.10105611943965), ('contextOSE', 69.89956896844828), ('htmjava', 65.54990960125), ('numentaTM', 64.55346441254311), ('knncad', 57.99434335898808), ('relativeEntropy', 54.64274893469828), ('randomCutForest', 51.717054557073276), ('twitterADVec', 47.06195725408189), ('windowedGaussian', 39.649523496077585), ('skyline', 35.687043255862065), ('random', 16.831768350517237), ('autoencoder', 14.455043678385433), ('null', 0.0)]\n"
          ]
        }
      ],
      "source": [
        "with open(\"/content/final_results.json\") as f:\n",
        "    data = json.load(f)\n",
        "\n",
        "filtered_data = {key: value for key, value in data.items() if not key.startswith('e')}\n",
        "filtered_data['autoencoder'] = data['e1000']\n",
        "new_data = {key: list(val.values())[2] for key, val in filtered_data.items()}\n",
        "sorted_data = sorted(new_data.items(), key=lambda x: x[1], reverse=True)\n",
        "print(sorted_data)"
      ]
    }
  ],
  "metadata": {
    "colab": {
      "provenance": []
    },
    "kernelspec": {
      "display_name": "Python 3",
      "name": "python3"
    },
    "language_info": {
      "name": "python"
    }
  },
  "nbformat": 4,
  "nbformat_minor": 0
}